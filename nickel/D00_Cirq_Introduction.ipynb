{
 "cells": [
  {
   "cell_type": "markdown",
   "metadata": {},
   "source": [
    "<table  align=\"left\" width=\"100%\"> <tr>\n",
    "        <td  style=\"background-color:#ffffff;\"><a href=\"https://qworld.net\" target=\"_blank\"><img src=\"../images/qworld.jpg\" width=\"35%\" align=\"left\"></a></td>\n",
    "        <td  align=\"right\" style=\"background-color:#ffffff;vertical-align:bottom;horizontal-align:right\">\n",
    "            prepared by Özlem Salehi (<a href=\"https://qworld.net/qturkey/\" target=\"_blank\">QTurkey</a>)\n",
    "        </td>        \n",
    "</tr></table>"
   ]
  },
  {
   "cell_type": "markdown",
   "metadata": {},
   "source": [
    "<table width=\"100%\"><tr><td style=\"color:#bbbbbb;background-color:#ffffff;font-size:11px;font-style:italic;text-align:right;\">This cell contains some macros. If there is a problem with displaying mathematical formulas, please run this cell to load these macros. </td></tr></table>\n",
    "$ \\newcommand{\\bra}[1]{\\langle #1|} $\n",
    "$ \\newcommand{\\ket}[1]{|#1\\rangle} $\n",
    "$ \\newcommand{\\braket}[2]{\\langle #1|#2\\rangle} $\n",
    "$ \\newcommand{\\dot}[2]{ #1 \\cdot #2} $\n",
    "$ \\newcommand{\\biginner}[2]{\\left\\langle #1,#2\\right\\rangle} $\n",
    "$ \\newcommand{\\mymatrix}[2]{\\left( \\begin{array}{#1} #2\\end{array} \\right)} $\n",
    "$ \\newcommand{\\myvector}[1]{\\mymatrix{c}{#1}} $\n",
    "$ \\newcommand{\\myrvector}[1]{\\mymatrix{r}{#1}} $\n",
    "$ \\newcommand{\\mypar}[1]{\\left( #1 \\right)} $\n",
    "$ \\newcommand{\\mybigpar}[1]{ \\Big( #1 \\Big)} $\n",
    "$ \\newcommand{\\sqrttwo}{\\frac{1}{\\sqrt{2}}} $\n",
    "$ \\newcommand{\\dsqrttwo}{\\dfrac{1}{\\sqrt{2}}} $\n",
    "$ \\newcommand{\\onehalf}{\\frac{1}{2}} $\n",
    "$ \\newcommand{\\donehalf}{\\dfrac{1}{2}} $\n",
    "$ \\newcommand{\\hadamard}{ \\mymatrix{rr}{ \\sqrttwo & \\sqrttwo \\\\ \\sqrttwo & -\\sqrttwo }} $\n",
    "$ \\newcommand{\\vzero}{\\myvector{1\\\\0}} $\n",
    "$ \\newcommand{\\vone}{\\myvector{0\\\\1}} $\n",
    "$ \\newcommand{\\stateplus}{\\myvector{ \\sqrttwo \\\\  \\sqrttwo } } $\n",
    "$ \\newcommand{\\stateminus}{ \\myrvector{ \\sqrttwo \\\\ -\\sqrttwo } } $\n",
    "$ \\newcommand{\\myarray}[2]{ \\begin{array}{#1}#2\\end{array}} $\n",
    "$ \\newcommand{\\X}{ \\mymatrix{cc}{0 & 1 \\\\ 1 & 0}  } $\n",
    "$ \\newcommand{\\Z}{ \\mymatrix{rr}{1 & 0 \\\\ 0 & -1}  } $\n",
    "$ \\newcommand{\\Htwo}{ \\mymatrix{rrrr}{ \\frac{1}{2} & \\frac{1}{2} & \\frac{1}{2} & \\frac{1}{2} \\\\ \\frac{1}{2} & -\\frac{1}{2} & \\frac{1}{2} & -\\frac{1}{2} \\\\ \\frac{1}{2} & \\frac{1}{2} & -\\frac{1}{2} & -\\frac{1}{2} \\\\ \\frac{1}{2} & -\\frac{1}{2} & -\\frac{1}{2} & \\frac{1}{2} } } $\n",
    "$ \\newcommand{\\CNOT}{ \\mymatrix{cccc}{1 & 0 & 0 & 0 \\\\ 0 & 1 & 0 & 0 \\\\ 0 & 0 & 0 & 1 \\\\ 0 & 0 & 1 & 0} } $\n",
    "$ \\newcommand{\\norm}[1]{ \\left\\lVert #1 \\right\\rVert } $\n",
    "$ \\newcommand{\\pstate}[1]{ \\lceil \\mspace{-1mu} #1 \\mspace{-1.5mu} \\rfloor } $"
   ]
  },
  {
   "cell_type": "markdown",
   "metadata": {},
   "source": [
    "<h1> Introduction to Cirq </h1>\n",
    "\n",
    "<hr>"
   ]
  },
  {
   "cell_type": "markdown",
   "metadata": {},
   "source": [
    "You can import Cirq using the following command:"
   ]
  },
  {
   "cell_type": "code",
   "execution_count": 30,
   "metadata": {},
   "outputs": [
    {
     "name": "stdout",
     "output_type": "stream",
     "text": [
      "Requirement already satisfied: cirq in c:\\python311\\lib\\site-packages (1.3.0)\n",
      "Requirement already satisfied: cirq-aqt==1.3.0 in c:\\python311\\lib\\site-packages (from cirq) (1.3.0)\n",
      "Requirement already satisfied: cirq-core==1.3.0 in c:\\python311\\lib\\site-packages (from cirq) (1.3.0)\n",
      "Requirement already satisfied: cirq-ft==1.3.0 in c:\\python311\\lib\\site-packages (from cirq) (1.3.0)\n",
      "Requirement already satisfied: cirq-google==1.3.0 in c:\\python311\\lib\\site-packages (from cirq) (1.3.0)\n",
      "Requirement already satisfied: cirq-ionq==1.3.0 in c:\\python311\\lib\\site-packages (from cirq) (1.3.0)\n",
      "Requirement already satisfied: cirq-pasqal==1.3.0 in c:\\python311\\lib\\site-packages (from cirq) (1.3.0)\n",
      "Requirement already satisfied: cirq-rigetti==1.3.0 in c:\\python311\\lib\\site-packages (from cirq) (1.3.0)\n",
      "Requirement already satisfied: cirq-web==1.3.0 in c:\\python311\\lib\\site-packages (from cirq) (1.3.0)\n",
      "Requirement already satisfied: requests~=2.18 in c:\\users\\vamsi\\appdata\\roaming\\python\\python311\\site-packages (from cirq-aqt==1.3.0->cirq) (2.31.0)\n",
      "Requirement already satisfied: duet~=0.2.8 in c:\\python311\\lib\\site-packages (from cirq-core==1.3.0->cirq) (0.2.9)\n",
      "Requirement already satisfied: matplotlib~=3.0 in c:\\python311\\lib\\site-packages (from cirq-core==1.3.0->cirq) (3.7.2)\n",
      "Requirement already satisfied: networkx>=2.4 in c:\\python311\\lib\\site-packages (from cirq-core==1.3.0->cirq) (3.2.1)\n",
      "Requirement already satisfied: numpy~=1.16 in c:\\python311\\lib\\site-packages (from cirq-core==1.3.0->cirq) (1.25.2)\n",
      "Requirement already satisfied: pandas in c:\\users\\vamsi\\appdata\\roaming\\python\\python311\\site-packages (from cirq-core==1.3.0->cirq) (2.1.4)\n",
      "Requirement already satisfied: sortedcontainers~=2.0 in c:\\python311\\lib\\site-packages (from cirq-core==1.3.0->cirq) (2.4.0)\n",
      "Requirement already satisfied: scipy in c:\\users\\vamsi\\appdata\\roaming\\python\\python311\\site-packages (from cirq-core==1.3.0->cirq) (1.11.4)\n",
      "Requirement already satisfied: sympy in c:\\users\\vamsi\\appdata\\roaming\\python\\python311\\site-packages (from cirq-core==1.3.0->cirq) (1.12)\n",
      "Requirement already satisfied: typing-extensions>=4.2 in c:\\python311\\lib\\site-packages (from cirq-core==1.3.0->cirq) (4.9.0)\n",
      "Requirement already satisfied: tqdm in c:\\python311\\lib\\site-packages (from cirq-core==1.3.0->cirq) (4.66.2)\n",
      "Requirement already satisfied: attrs in c:\\python311\\lib\\site-packages (from cirq-ft==1.3.0->cirq) (21.4.0)\n",
      "Requirement already satisfied: cachetools>=5.3 in c:\\python311\\lib\\site-packages (from cirq-ft==1.3.0->cirq) (5.3.2)\n",
      "Requirement already satisfied: ipywidgets in c:\\users\\vamsi\\appdata\\roaming\\python\\python311\\site-packages (from cirq-ft==1.3.0->cirq) (8.1.1)\n",
      "Requirement already satisfied: nbconvert in c:\\users\\vamsi\\appdata\\roaming\\python\\python311\\site-packages (from cirq-ft==1.3.0->cirq) (7.16.0)\n",
      "Requirement already satisfied: nbformat in c:\\users\\vamsi\\appdata\\roaming\\python\\python311\\site-packages (from cirq-ft==1.3.0->cirq) (5.9.2)\n",
      "Requirement already satisfied: google-api-core>=1.14.0 in c:\\python311\\lib\\site-packages (from google-api-core[grpc]>=1.14.0->cirq-google==1.3.0->cirq) (2.17.1)\n",
      "Requirement already satisfied: proto-plus>=1.20.0 in c:\\python311\\lib\\site-packages (from cirq-google==1.3.0->cirq) (1.23.0)\n",
      "Requirement already satisfied: protobuf>=3.15.0 in c:\\python311\\lib\\site-packages (from cirq-google==1.3.0->cirq) (4.25.3)\n",
      "Requirement already satisfied: pyquil<4.0.0,>=3.2.0 in c:\\python311\\lib\\site-packages (from cirq-rigetti==1.3.0->cirq) (3.5.4)\n",
      "Requirement already satisfied: googleapis-common-protos<2.0.dev0,>=1.56.2 in c:\\python311\\lib\\site-packages (from google-api-core>=1.14.0->google-api-core[grpc]>=1.14.0->cirq-google==1.3.0->cirq) (1.62.0)\n",
      "Requirement already satisfied: google-auth<3.0.dev0,>=2.14.1 in c:\\python311\\lib\\site-packages (from google-api-core>=1.14.0->google-api-core[grpc]>=1.14.0->cirq-google==1.3.0->cirq) (2.28.0)\n",
      "Requirement already satisfied: grpcio<2.0dev,>=1.33.2 in c:\\python311\\lib\\site-packages (from google-api-core[grpc]>=1.14.0->cirq-google==1.3.0->cirq) (1.60.1)\n",
      "Requirement already satisfied: grpcio-status<2.0.dev0,>=1.33.2 in c:\\python311\\lib\\site-packages (from google-api-core[grpc]>=1.14.0->cirq-google==1.3.0->cirq) (1.60.1)\n",
      "Requirement already satisfied: contourpy>=1.0.1 in c:\\python311\\lib\\site-packages (from matplotlib~=3.0->cirq-core==1.3.0->cirq) (1.1.0)\n",
      "Requirement already satisfied: cycler>=0.10 in c:\\python311\\lib\\site-packages (from matplotlib~=3.0->cirq-core==1.3.0->cirq) (0.11.0)\n",
      "Requirement already satisfied: fonttools>=4.22.0 in c:\\python311\\lib\\site-packages (from matplotlib~=3.0->cirq-core==1.3.0->cirq) (4.42.0)\n",
      "Requirement already satisfied: kiwisolver>=1.0.1 in c:\\python311\\lib\\site-packages (from matplotlib~=3.0->cirq-core==1.3.0->cirq) (1.4.4)\n",
      "Requirement already satisfied: packaging>=20.0 in c:\\python311\\lib\\site-packages (from matplotlib~=3.0->cirq-core==1.3.0->cirq) (23.2)\n",
      "Requirement already satisfied: pillow>=6.2.0 in c:\\python311\\lib\\site-packages (from matplotlib~=3.0->cirq-core==1.3.0->cirq) (10.0.0)\n",
      "Requirement already satisfied: pyparsing<3.1,>=2.3.1 in c:\\python311\\lib\\site-packages (from matplotlib~=3.0->cirq-core==1.3.0->cirq) (3.0.9)\n",
      "Requirement already satisfied: python-dateutil>=2.7 in c:\\python311\\lib\\site-packages (from matplotlib~=3.0->cirq-core==1.3.0->cirq) (2.8.2)\n",
      "Requirement already satisfied: deprecated<2.0.0,>=1.2.13 in c:\\python311\\lib\\site-packages (from pyquil<4.0.0,>=3.2.0->cirq-rigetti==1.3.0->cirq) (1.2.14)\n",
      "Requirement already satisfied: lark<0.12.0,>=0.11.1 in c:\\python311\\lib\\site-packages (from pyquil<4.0.0,>=3.2.0->cirq-rigetti==1.3.0->cirq) (0.11.3)\n",
      "Requirement already satisfied: qcs-api-client<0.22.0,>=0.21.0 in c:\\python311\\lib\\site-packages (from pyquil<4.0.0,>=3.2.0->cirq-rigetti==1.3.0->cirq) (0.21.6)\n",
      "Requirement already satisfied: rpcq<4.0.0,>=3.10.0 in c:\\python311\\lib\\site-packages (from pyquil<4.0.0,>=3.2.0->cirq-rigetti==1.3.0->cirq) (3.11.0)\n",
      "Requirement already satisfied: tenacity<9.0.0,>=8.2.2 in c:\\python311\\lib\\site-packages (from pyquil<4.0.0,>=3.2.0->cirq-rigetti==1.3.0->cirq) (8.2.3)\n",
      "Requirement already satisfied: types-deprecated<2.0.0.0,>=1.2.9.2 in c:\\python311\\lib\\site-packages (from pyquil<4.0.0,>=3.2.0->cirq-rigetti==1.3.0->cirq) (1.2.9.20240106)\n",
      "Requirement already satisfied: types-python-dateutil<3.0.0,>=2.8.19 in c:\\python311\\lib\\site-packages (from pyquil<4.0.0,>=3.2.0->cirq-rigetti==1.3.0->cirq) (2.8.19.20240106)\n",
      "Requirement already satisfied: types-retry<0.10.0,>=0.9.9 in c:\\python311\\lib\\site-packages (from pyquil<4.0.0,>=3.2.0->cirq-rigetti==1.3.0->cirq) (0.9.9.4)\n",
      "Requirement already satisfied: charset-normalizer<4,>=2 in c:\\users\\vamsi\\appdata\\roaming\\python\\python311\\site-packages (from requests~=2.18->cirq-aqt==1.3.0->cirq) (3.3.2)\n",
      "Requirement already satisfied: idna<4,>=2.5 in c:\\users\\vamsi\\appdata\\roaming\\python\\python311\\site-packages (from requests~=2.18->cirq-aqt==1.3.0->cirq) (3.6)\n",
      "Requirement already satisfied: urllib3<3,>=1.21.1 in c:\\python311\\lib\\site-packages (from requests~=2.18->cirq-aqt==1.3.0->cirq) (2.2.0)\n",
      "Requirement already satisfied: certifi>=2017.4.17 in c:\\users\\vamsi\\appdata\\roaming\\python\\python311\\site-packages (from requests~=2.18->cirq-aqt==1.3.0->cirq) (2024.2.2)\n",
      "Requirement already satisfied: comm>=0.1.3 in c:\\users\\vamsi\\appdata\\roaming\\python\\python311\\site-packages (from ipywidgets->cirq-ft==1.3.0->cirq) (0.2.1)\n",
      "Requirement already satisfied: ipython>=6.1.0 in c:\\users\\vamsi\\appdata\\roaming\\python\\python311\\site-packages (from ipywidgets->cirq-ft==1.3.0->cirq) (8.20.0)\n",
      "Requirement already satisfied: traitlets>=4.3.1 in c:\\users\\vamsi\\appdata\\roaming\\python\\python311\\site-packages (from ipywidgets->cirq-ft==1.3.0->cirq) (5.14.1)\n",
      "Requirement already satisfied: widgetsnbextension~=4.0.9 in c:\\users\\vamsi\\appdata\\roaming\\python\\python311\\site-packages (from ipywidgets->cirq-ft==1.3.0->cirq) (4.0.9)\n",
      "Requirement already satisfied: jupyterlab-widgets~=3.0.9 in c:\\users\\vamsi\\appdata\\roaming\\python\\python311\\site-packages (from ipywidgets->cirq-ft==1.3.0->cirq) (3.0.9)\n",
      "Requirement already satisfied: beautifulsoup4 in c:\\users\\vamsi\\appdata\\roaming\\python\\python311\\site-packages (from nbconvert->cirq-ft==1.3.0->cirq) (4.12.3)\n",
      "Requirement already satisfied: bleach!=5.0.0 in c:\\users\\vamsi\\appdata\\roaming\\python\\python311\\site-packages (from nbconvert->cirq-ft==1.3.0->cirq) (6.1.0)\n",
      "Requirement already satisfied: defusedxml in c:\\users\\vamsi\\appdata\\roaming\\python\\python311\\site-packages (from nbconvert->cirq-ft==1.3.0->cirq) (0.7.1)\n",
      "Requirement already satisfied: jinja2>=3.0 in c:\\users\\vamsi\\appdata\\roaming\\python\\python311\\site-packages (from nbconvert->cirq-ft==1.3.0->cirq) (3.1.3)\n",
      "Requirement already satisfied: jupyter-core>=4.7 in c:\\users\\vamsi\\appdata\\roaming\\python\\python311\\site-packages (from nbconvert->cirq-ft==1.3.0->cirq) (5.7.1)\n",
      "Requirement already satisfied: jupyterlab-pygments in c:\\python311\\lib\\site-packages (from nbconvert->cirq-ft==1.3.0->cirq) (0.3.0)\n",
      "Requirement already satisfied: markupsafe>=2.0 in c:\\python311\\lib\\site-packages (from nbconvert->cirq-ft==1.3.0->cirq) (2.1.5)\n",
      "Requirement already satisfied: mistune<4,>=2.0.3 in c:\\python311\\lib\\site-packages (from nbconvert->cirq-ft==1.3.0->cirq) (3.0.2)\n",
      "Requirement already satisfied: nbclient>=0.5.0 in c:\\users\\vamsi\\appdata\\roaming\\python\\python311\\site-packages (from nbconvert->cirq-ft==1.3.0->cirq) (0.9.0)\n",
      "Requirement already satisfied: pandocfilters>=1.4.1 in c:\\python311\\lib\\site-packages (from nbconvert->cirq-ft==1.3.0->cirq) (1.5.1)\n",
      "Requirement already satisfied: pygments>=2.4.1 in c:\\users\\vamsi\\appdata\\roaming\\python\\python311\\site-packages (from nbconvert->cirq-ft==1.3.0->cirq) (2.17.2)\n",
      "Requirement already satisfied: tinycss2 in c:\\python311\\lib\\site-packages (from nbconvert->cirq-ft==1.3.0->cirq) (1.2.1)\n",
      "Requirement already satisfied: fastjsonschema in c:\\python311\\lib\\site-packages (from nbformat->cirq-ft==1.3.0->cirq) (2.19.1)\n",
      "Requirement already satisfied: jsonschema>=2.6 in c:\\python311\\lib\\site-packages (from nbformat->cirq-ft==1.3.0->cirq) (4.17.3)\n",
      "Requirement already satisfied: pytz>=2020.1 in c:\\users\\vamsi\\appdata\\roaming\\python\\python311\\site-packages (from pandas->cirq-core==1.3.0->cirq) (2023.3.post1)\n",
      "Requirement already satisfied: tzdata>=2022.1 in c:\\users\\vamsi\\appdata\\roaming\\python\\python311\\site-packages (from pandas->cirq-core==1.3.0->cirq) (2023.4)\n",
      "Requirement already satisfied: mpmath>=0.19 in c:\\users\\vamsi\\appdata\\roaming\\python\\python311\\site-packages (from sympy->cirq-core==1.3.0->cirq) (1.3.0)\n",
      "Requirement already satisfied: colorama in c:\\users\\vamsi\\appdata\\roaming\\python\\python311\\site-packages (from tqdm->cirq-core==1.3.0->cirq) (0.4.6)\n",
      "Requirement already satisfied: six>=1.9.0 in c:\\python311\\lib\\site-packages (from bleach!=5.0.0->nbconvert->cirq-ft==1.3.0->cirq) (1.16.0)\n",
      "Requirement already satisfied: webencodings in c:\\python311\\lib\\site-packages (from bleach!=5.0.0->nbconvert->cirq-ft==1.3.0->cirq) (0.5.1)\n",
      "Requirement already satisfied: wrapt<2,>=1.10 in c:\\python311\\lib\\site-packages (from deprecated<2.0.0,>=1.2.13->pyquil<4.0.0,>=3.2.0->cirq-rigetti==1.3.0->cirq) (1.16.0)\n",
      "Requirement already satisfied: pyasn1-modules>=0.2.1 in c:\\python311\\lib\\site-packages (from google-auth<3.0.dev0,>=2.14.1->google-api-core>=1.14.0->google-api-core[grpc]>=1.14.0->cirq-google==1.3.0->cirq) (0.3.0)\n",
      "Requirement already satisfied: rsa<5,>=3.1.4 in c:\\python311\\lib\\site-packages (from google-auth<3.0.dev0,>=2.14.1->google-api-core>=1.14.0->google-api-core[grpc]>=1.14.0->cirq-google==1.3.0->cirq) (4.9)\n",
      "Requirement already satisfied: decorator in c:\\users\\vamsi\\appdata\\roaming\\python\\python311\\site-packages (from ipython>=6.1.0->ipywidgets->cirq-ft==1.3.0->cirq) (5.1.1)\n",
      "Requirement already satisfied: jedi>=0.16 in c:\\users\\vamsi\\appdata\\roaming\\python\\python311\\site-packages (from ipython>=6.1.0->ipywidgets->cirq-ft==1.3.0->cirq) (0.19.1)\n",
      "Requirement already satisfied: matplotlib-inline in c:\\users\\vamsi\\appdata\\roaming\\python\\python311\\site-packages (from ipython>=6.1.0->ipywidgets->cirq-ft==1.3.0->cirq) (0.1.6)\n",
      "Requirement already satisfied: prompt-toolkit<3.1.0,>=3.0.41 in c:\\users\\vamsi\\appdata\\roaming\\python\\python311\\site-packages (from ipython>=6.1.0->ipywidgets->cirq-ft==1.3.0->cirq) (3.0.43)\n",
      "Requirement already satisfied: stack-data in c:\\users\\vamsi\\appdata\\roaming\\python\\python311\\site-packages (from ipython>=6.1.0->ipywidgets->cirq-ft==1.3.0->cirq) (0.6.3)\n",
      "Requirement already satisfied: pyrsistent!=0.17.0,!=0.17.1,!=0.17.2,>=0.14.0 in c:\\python311\\lib\\site-packages (from jsonschema>=2.6->nbformat->cirq-ft==1.3.0->cirq) (0.20.0)\n",
      "Requirement already satisfied: platformdirs>=2.5 in c:\\users\\vamsi\\appdata\\roaming\\python\\python311\\site-packages (from jupyter-core>=4.7->nbconvert->cirq-ft==1.3.0->cirq) (4.1.0)\n",
      "Requirement already satisfied: pywin32>=300 in c:\\users\\vamsi\\appdata\\roaming\\python\\python311\\site-packages (from jupyter-core>=4.7->nbconvert->cirq-ft==1.3.0->cirq) (306)\n",
      "Requirement already satisfied: jupyter-client>=6.1.12 in c:\\users\\vamsi\\appdata\\roaming\\python\\python311\\site-packages (from nbclient>=0.5.0->nbconvert->cirq-ft==1.3.0->cirq) (8.6.0)\n",
      "Requirement already satisfied: PyJWT<3.0.0,>=2.4.0 in c:\\python311\\lib\\site-packages (from qcs-api-client<0.22.0,>=0.21.0->pyquil<4.0.0,>=3.2.0->cirq-rigetti==1.3.0->cirq) (2.8.0)\n",
      "Requirement already satisfied: httpx<0.24.0,>=0.23.0 in c:\\python311\\lib\\site-packages (from qcs-api-client<0.22.0,>=0.21.0->pyquil<4.0.0,>=3.2.0->cirq-rigetti==1.3.0->cirq) (0.23.3)\n",
      "Requirement already satisfied: iso8601<2.0.0,>=1.0.2 in c:\\python311\\lib\\site-packages (from qcs-api-client<0.22.0,>=0.21.0->pyquil<4.0.0,>=3.2.0->cirq-rigetti==1.3.0->cirq) (1.1.0)\n",
      "Requirement already satisfied: pydantic<2.0.0,>=1.7.2 in c:\\python311\\lib\\site-packages (from qcs-api-client<0.22.0,>=0.21.0->pyquil<4.0.0,>=3.2.0->cirq-rigetti==1.3.0->cirq) (1.10.14)\n",
      "Requirement already satisfied: retrying<2.0.0,>=1.3.3 in c:\\python311\\lib\\site-packages (from qcs-api-client<0.22.0,>=0.21.0->pyquil<4.0.0,>=3.2.0->cirq-rigetti==1.3.0->cirq) (1.3.4)\n",
      "Requirement already satisfied: rfc3339<7.0,>=6.2 in c:\\python311\\lib\\site-packages (from qcs-api-client<0.22.0,>=0.21.0->pyquil<4.0.0,>=3.2.0->cirq-rigetti==1.3.0->cirq) (6.2)\n",
      "Requirement already satisfied: toml<0.11.0,>=0.10.2 in c:\\python311\\lib\\site-packages (from qcs-api-client<0.22.0,>=0.21.0->pyquil<4.0.0,>=3.2.0->cirq-rigetti==1.3.0->cirq) (0.10.2)\n",
      "Requirement already satisfied: msgpack<2.0,>=0.6 in c:\\python311\\lib\\site-packages (from rpcq<4.0.0,>=3.10.0->pyquil<4.0.0,>=3.2.0->cirq-rigetti==1.3.0->cirq) (1.0.7)\n",
      "Requirement already satisfied: python-rapidjson in c:\\python311\\lib\\site-packages (from rpcq<4.0.0,>=3.10.0->pyquil<4.0.0,>=3.2.0->cirq-rigetti==1.3.0->cirq) (1.14)\n",
      "Requirement already satisfied: pyzmq>=17 in c:\\users\\vamsi\\appdata\\roaming\\python\\python311\\site-packages (from rpcq<4.0.0,>=3.10.0->pyquil<4.0.0,>=3.2.0->cirq-rigetti==1.3.0->cirq) (25.1.2)\n",
      "Requirement already satisfied: ruamel.yaml in c:\\python311\\lib\\site-packages (from rpcq<4.0.0,>=3.10.0->pyquil<4.0.0,>=3.2.0->cirq-rigetti==1.3.0->cirq) (0.18.6)\n",
      "Requirement already satisfied: soupsieve>1.2 in c:\\python311\\lib\\site-packages (from beautifulsoup4->nbconvert->cirq-ft==1.3.0->cirq) (2.5)\n",
      "Requirement already satisfied: httpcore<0.17.0,>=0.15.0 in c:\\python311\\lib\\site-packages (from httpx<0.24.0,>=0.23.0->qcs-api-client<0.22.0,>=0.21.0->pyquil<4.0.0,>=3.2.0->cirq-rigetti==1.3.0->cirq) (0.16.3)\n",
      "Requirement already satisfied: rfc3986<2,>=1.3 in c:\\python311\\lib\\site-packages (from rfc3986[idna2008]<2,>=1.3->httpx<0.24.0,>=0.23.0->qcs-api-client<0.22.0,>=0.21.0->pyquil<4.0.0,>=3.2.0->cirq-rigetti==1.3.0->cirq) (1.5.0)\n",
      "Requirement already satisfied: sniffio in c:\\python311\\lib\\site-packages (from httpx<0.24.0,>=0.23.0->qcs-api-client<0.22.0,>=0.21.0->pyquil<4.0.0,>=3.2.0->cirq-rigetti==1.3.0->cirq) (1.3.0)\n",
      "Requirement already satisfied: parso<0.9.0,>=0.8.3 in c:\\users\\vamsi\\appdata\\roaming\\python\\python311\\site-packages (from jedi>=0.16->ipython>=6.1.0->ipywidgets->cirq-ft==1.3.0->cirq) (0.8.3)\n",
      "Requirement already satisfied: tornado>=6.2 in c:\\users\\vamsi\\appdata\\roaming\\python\\python311\\site-packages (from jupyter-client>=6.1.12->nbclient>=0.5.0->nbconvert->cirq-ft==1.3.0->cirq) (6.4)\n",
      "Requirement already satisfied: wcwidth in c:\\python311\\lib\\site-packages (from prompt-toolkit<3.1.0,>=3.0.41->ipython>=6.1.0->ipywidgets->cirq-ft==1.3.0->cirq) (0.2.13)\n",
      "Requirement already satisfied: pyasn1<0.6.0,>=0.4.6 in c:\\python311\\lib\\site-packages (from pyasn1-modules>=0.2.1->google-auth<3.0.dev0,>=2.14.1->google-api-core>=1.14.0->google-api-core[grpc]>=1.14.0->cirq-google==1.3.0->cirq) (0.5.1)\n",
      "Requirement already satisfied: ruamel.yaml.clib>=0.2.7 in c:\\python311\\lib\\site-packages (from ruamel.yaml->rpcq<4.0.0,>=3.10.0->pyquil<4.0.0,>=3.2.0->cirq-rigetti==1.3.0->cirq) (0.2.8)\n",
      "Requirement already satisfied: executing>=1.2.0 in c:\\users\\vamsi\\appdata\\roaming\\python\\python311\\site-packages (from stack-data->ipython>=6.1.0->ipywidgets->cirq-ft==1.3.0->cirq) (2.0.1)\n",
      "Requirement already satisfied: asttokens>=2.1.0 in c:\\users\\vamsi\\appdata\\roaming\\python\\python311\\site-packages (from stack-data->ipython>=6.1.0->ipywidgets->cirq-ft==1.3.0->cirq) (2.4.1)\n",
      "Requirement already satisfied: pure-eval in c:\\users\\vamsi\\appdata\\roaming\\python\\python311\\site-packages (from stack-data->ipython>=6.1.0->ipywidgets->cirq-ft==1.3.0->cirq) (0.2.2)\n",
      "Requirement already satisfied: h11<0.15,>=0.13 in c:\\users\\vamsi\\appdata\\roaming\\python\\python311\\site-packages (from httpcore<0.17.0,>=0.15.0->httpx<0.24.0,>=0.23.0->qcs-api-client<0.22.0,>=0.21.0->pyquil<4.0.0,>=3.2.0->cirq-rigetti==1.3.0->cirq) (0.14.0)\n",
      "Requirement already satisfied: anyio<5.0,>=3.0 in c:\\users\\vamsi\\appdata\\roaming\\python\\python311\\site-packages (from httpcore<0.17.0,>=0.15.0->httpx<0.24.0,>=0.23.0->qcs-api-client<0.22.0,>=0.21.0->pyquil<4.0.0,>=3.2.0->cirq-rigetti==1.3.0->cirq) (4.2.0)\n"
     ]
    }
   ],
   "source": [
    "!pip install cirq"
   ]
  },
  {
   "cell_type": "code",
   "execution_count": 31,
   "metadata": {},
   "outputs": [],
   "source": [
    "import cirq"
   ]
  },
  {
   "cell_type": "markdown",
   "metadata": {},
   "source": [
    "<hr>\n",
    "<h2>Creating qubits</h2>"
   ]
  },
  {
   "cell_type": "markdown",
   "metadata": {},
   "source": [
    "There are different ways to create qubits in Cirq. Here, we will introduce two of them."
   ]
  },
  {
   "cell_type": "markdown",
   "metadata": {},
   "source": [
    "<b>Named qubits</b>"
   ]
  },
  {
   "cell_type": "markdown",
   "metadata": {},
   "source": [
    "<i>Named qubit</i> is the simplest way to create qubits. The qubits are identified by their name."
   ]
  },
  {
   "cell_type": "code",
   "execution_count": 32,
   "metadata": {},
   "outputs": [
    {
     "name": "stdout",
     "output_type": "stream",
     "text": [
      "source\n",
      "target\n"
     ]
    }
   ],
   "source": [
    "#Let's create two qubits named source and target\n",
    "import cirq\n",
    "s = cirq.NamedQubit('source')\n",
    "t = cirq.NamedQubit('target')\n",
    "print(s)\n",
    "print(t)"
   ]
  },
  {
   "cell_type": "markdown",
   "metadata": {},
   "source": [
    "<b>Lined qubits</b>"
   ]
  },
  {
   "cell_type": "markdown",
   "metadata": {},
   "source": [
    "<i>Lined qubit</i> creates a qubit located on a 1-D line and each qubit is identified by its $x$ coordinate. "
   ]
  },
  {
   "cell_type": "code",
   "execution_count": 33,
   "metadata": {},
   "outputs": [
    {
     "name": "stdout",
     "output_type": "stream",
     "text": [
      "q(4)\n"
     ]
    }
   ],
   "source": [
    "# Returns the 4th qubit on the line\n",
    "q4 = cirq.LineQubit(4)\n",
    "print(q4)\n",
    "#Note that 4 is not the number of qubits."
   ]
  },
  {
   "cell_type": "markdown",
   "metadata": {},
   "source": [
    "To create a list of qubits, range function should be used."
   ]
  },
  {
   "cell_type": "code",
   "execution_count": 34,
   "metadata": {},
   "outputs": [
    {
     "name": "stdout",
     "output_type": "stream",
     "text": [
      "q(2)\n"
     ]
    }
   ],
   "source": [
    "#Returns a list of 4 qubits, starting at index 0 and ending at index 3\n",
    "qlist = cirq.LineQubit.range(4) \n",
    "\n",
    "#List can be subscriptable\n",
    "print(qlist[2])\n",
    "\n",
    "#Qubits in the list can be stored individually as well\n",
    "qubit0, qubit1, qubit2 = cirq.LineQubit.range(3)"
   ]
  },
  {
   "cell_type": "markdown",
   "metadata": {},
   "source": [
    "<hr>\n",
    "<h2>Creating Circiuts</h2>"
   ]
  },
  {
   "cell_type": "markdown",
   "metadata": {},
   "source": [
    "A quantum circuit is created by the following command."
   ]
  },
  {
   "cell_type": "code",
   "execution_count": 35,
   "metadata": {},
   "outputs": [],
   "source": [
    "#Creates a circuit object\n",
    "circuit = cirq.Circuit()"
   ]
  },
  {
   "cell_type": "markdown",
   "metadata": {},
   "source": [
    "<hr>\n",
    "<h2>Gates</h2>"
   ]
  },
  {
   "cell_type": "markdown",
   "metadata": {},
   "source": [
    "Here are some <i>gates</i> and how we apply them in Cirq. Gates are applied to qubits forming _operations_ and operations are appended to quantum circuits. Qubits do not belong to circuits."
   ]
  },
  {
   "cell_type": "code",
   "execution_count": 36,
   "metadata": {},
   "outputs": [],
   "source": [
    "#Let's import the gates.\n",
    "from cirq import X, Z, H, CX, CZ, SWAP, CCX\n",
    "\n",
    "#Apply NOT gate to qubit 2\n",
    "circuit.append(X(qlist[2]))\n",
    "\n",
    "#Apply Z gate to qubit 2\n",
    "circuit.append(Z(qlist[2]))\n",
    "\n",
    "#Apply H gate to qubit 3\n",
    "circuit.append(H(qlist[3]))\n",
    "\n",
    "#Apply CNOT gate where qubit 2 is control and qubit 0 is target\n",
    "circuit.append(CX(qlist[2], qlist[0]))\n",
    "\n",
    "#Apply CZ gate where qubit 0 is control and qubit 1 is target\n",
    "circuit.append(CZ(qlist[0], qlist[1]))\n",
    "\n",
    "#Apply SWAP gates to qubits 1 and 3 \n",
    "circuit.append(SWAP(qlist[1], qlist[3]))\n",
    "\n",
    "#Apply CCNOT gate where qubit 0 and 1 are the control and qubit 2 is the target\n",
    "circuit.append(CCX(qlist[0], qlist[1], qlist[2]))"
   ]
  },
  {
   "cell_type": "markdown",
   "metadata": {},
   "source": [
    "Let's draw our circuit to visualize the operations."
   ]
  },
  {
   "cell_type": "code",
   "execution_count": 37,
   "metadata": {
    "scrolled": true
   },
   "outputs": [
    {
     "name": "stdout",
     "output_type": "stream",
     "text": [
      "0: ───────────X───@───────@───\n",
      "              │   │       │\n",
      "1: ───────────┼───@───×───@───\n",
      "              │       │   │\n",
      "2: ───X───Z───@───────┼───X───\n",
      "                      │\n",
      "3: ───H───────────────×───────\n"
     ]
    }
   ],
   "source": [
    "print(circuit)"
   ]
  },
  {
   "cell_type": "markdown",
   "metadata": {},
   "source": [
    "### Task 1\n",
    "    \n",
    "Create a quantum circuit with 10 qubits. \n",
    "\n",
    "1. Apply $H$ gate to qubit 0 \n",
    "2. Apply nine $CNOT$ gates where qubit $0$ is the control and qubit $i$ is the target for $i=1\\cdots9$.\n",
    "\n",
    "Draw your circuit."
   ]
  },
  {
   "cell_type": "code",
   "execution_count": 38,
   "metadata": {},
   "outputs": [],
   "source": [
    "import cirq\n",
    "from cirq import H, CX\n",
    "\n",
    "#\n",
    "# Your solution here\n",
    "#\n"
   ]
  },
  {
   "cell_type": "markdown",
   "metadata": {},
   "source": [
    "[click for our solution](D00_Cirq_Introduction_Solutions.ipynb#task1)"
   ]
  },
  {
   "cell_type": "markdown",
   "metadata": {},
   "source": [
    "<h2> More about gates </h2>"
   ]
  },
  {
   "cell_type": "markdown",
   "metadata": {},
   "source": [
    "It is possible to apply a gate to multiple qubits at once by using the keyword <i>on_each</i> and using `*` before the qubits. (`*` is used in Python to unpack a list)"
   ]
  },
  {
   "cell_type": "code",
   "execution_count": 39,
   "metadata": {},
   "outputs": [
    {
     "name": "stdout",
     "output_type": "stream",
     "text": [
      "0: ───H───\n",
      "\n",
      "1: ───H───\n",
      "\n",
      "2: ───H───\n",
      "\n",
      "3: ───H───\n"
     ]
    }
   ],
   "source": [
    "circuit2 = cirq.Circuit()\n",
    "qlist = cirq.LineQubit.range(4)\n",
    "circuit2.append(H.on_each(*qlist))\n",
    "print(circuit2)"
   ]
  },
  {
   "cell_type": "markdown",
   "metadata": {},
   "source": [
    "<i>controlled</i> function creates the controlled version of a gate."
   ]
  },
  {
   "cell_type": "code",
   "execution_count": 40,
   "metadata": {},
   "outputs": [
    {
     "name": "stdout",
     "output_type": "stream",
     "text": [
      "0: ───H───@───\n",
      "          │\n",
      "1: ───H───@───\n",
      "          │\n",
      "2: ───H───H───\n",
      "          │\n",
      "3: ───H───@───\n"
     ]
    }
   ],
   "source": [
    "CCCH =  H(qlist[2]).controlled_by(qlist[0],qlist[1],qlist[3])\n",
    "circuit2.append(CCCH)\n",
    "print(circuit2)"
   ]
  },
  {
   "cell_type": "markdown",
   "metadata": {},
   "source": [
    "It is also possible to first define the operation and then specify the qubits."
   ]
  },
  {
   "cell_type": "code",
   "execution_count": 41,
   "metadata": {},
   "outputs": [
    {
     "name": "stdout",
     "output_type": "stream",
     "text": [
      "0: ───H───@───@───\n",
      "          │   │\n",
      "1: ───H───@───@───\n",
      "          │   │\n",
      "2: ───H───H───@───\n",
      "          │   │\n",
      "3: ───H───@───Z───\n"
     ]
    }
   ],
   "source": [
    "CCCZ = Z.controlled(3)\n",
    "circuit2.append(CCCZ(*qlist[0:4]))\n",
    "print(circuit2)"
   ]
  },
  {
   "cell_type": "markdown",
   "metadata": {},
   "source": [
    "One can define new gates by arithmetic operations as well"
   ]
  },
  {
   "cell_type": "code",
   "execution_count": 42,
   "metadata": {
    "scrolled": true
   },
   "outputs": [
    {
     "name": "stdout",
     "output_type": "stream",
     "text": [
      "0: ───H───@───@───────────\n",
      "          │   │\n",
      "1: ───H───@───@───X^0.5───\n",
      "          │   │\n",
      "2: ───H───H───@───────────\n",
      "          │   │\n",
      "3: ───H───@───Z───────────\n"
     ]
    }
   ],
   "source": [
    "ROOTX = X**0.5\n",
    "circuit2.append(ROOTX(qlist[1]))\n",
    "print(circuit2)"
   ]
  },
  {
   "cell_type": "markdown",
   "metadata": {},
   "source": [
    "### Task 2\n",
    "    \n",
    "Create a quantum circuit with 10 qubits. \n",
    "\n",
    "1. Apply $H$ gates to all qubits.\n",
    "2. Apply $X$ gate to qubit 0 controlled by qubits 1-9\n",
    "2. Apply $H$ gates to all qubits.\n",
    "\n",
    "Draw your circuit."
   ]
  },
  {
   "cell_type": "code",
   "execution_count": 43,
   "metadata": {},
   "outputs": [],
   "source": [
    "import cirq\n",
    "from cirq import H, X\n",
    "\n",
    "#\n",
    "# Your solution here\n",
    "#\n"
   ]
  },
  {
   "cell_type": "markdown",
   "metadata": {},
   "source": [
    "[click for our solution](D00_Cirq_Introduction_Solutions.ipynb#task2)"
   ]
  },
  {
   "cell_type": "markdown",
   "metadata": {},
   "source": [
    "<hr>\n",
    "<h2>Running Circuits</h2>"
   ]
  },
  {
   "cell_type": "markdown",
   "metadata": {},
   "source": [
    "One way to get results from your circuit is to measure and run it for multiple times. \n",
    "\n",
    "Let's first create a simple circuit and measure it. "
   ]
  },
  {
   "cell_type": "code",
   "execution_count": 44,
   "metadata": {},
   "outputs": [],
   "source": [
    "import cirq\n",
    "from cirq import H, measure\n",
    "\n",
    "# Create quantum and classical registers with 2 qubits\n",
    "qlist = cirq.LineQubit.range(2)\n",
    "\n",
    "# Create a new circuit\n",
    "circuit = cirq.Circuit()\n",
    "\n",
    "# Apply H gate to qubit 0\n",
    "circuit.append(H(qlist[0]))\n",
    "\n",
    "# Measure both qubits, result is the label\n",
    "circuit.append(measure(*qlist, key='result'))"
   ]
  },
  {
   "cell_type": "markdown",
   "metadata": {},
   "source": [
    "Cirq can simulate circuits with upto 20 qubits. We initalize the <i>simulator</i> and run our circuit for multiple times to take samples."
   ]
  },
  {
   "cell_type": "code",
   "execution_count": 45,
   "metadata": {},
   "outputs": [
    {
     "name": "stdout",
     "output_type": "stream",
     "text": [
      "Counter({0: 504, 2: 496})\n"
     ]
    }
   ],
   "source": [
    "# This is the local simulator \n",
    "s = cirq.Simulator()\n",
    "\n",
    "# circuit is the circuit to be simulated\n",
    "# shots is the how many times we want to run the circuit\n",
    "samples=s.run(circuit, repetitions=1000)\n",
    "\n",
    "# Get the results as a dictionary\n",
    "print(samples.histogram(key='result'))"
   ]
  },
  {
   "cell_type": "markdown",
   "metadata": {},
   "source": [
    "Note that the outputs are in decimal form (i.e. 2 instead of 10). We can obtain the state representation as follows."
   ]
  },
  {
   "cell_type": "code",
   "execution_count": 46,
   "metadata": {},
   "outputs": [
    {
     "name": "stdout",
     "output_type": "stream",
     "text": [
      "Counter({'00': 504, '10': 496})\n"
     ]
    }
   ],
   "source": [
    "def bitstring(bits):\n",
    "    return \"\".join(str(int(b)) for b in bits)\n",
    "\n",
    "counts = samples.histogram(key=\"result\",fold_func=bitstring)\n",
    "print(counts)"
   ]
  },
  {
   "cell_type": "markdown",
   "metadata": {},
   "source": [
    "Cirq also provides the list of all measurement outcomes as well."
   ]
  },
  {
   "cell_type": "code",
   "execution_count": 47,
   "metadata": {},
   "outputs": [
    {
     "name": "stdout",
     "output_type": "stream",
     "text": [
      "[[1 0]\n",
      " [0 0]\n",
      " [0 0]\n",
      " ...\n",
      " [0 0]\n",
      " [0 0]\n",
      " [1 0]]\n"
     ]
    }
   ],
   "source": [
    "result = samples.measurements[\"result\"]\n",
    "print(result)"
   ]
  },
  {
   "cell_type": "markdown",
   "metadata": {},
   "source": [
    "It is also possible to measure only some of the qubits. Let's only measure qlist[0] this time."
   ]
  },
  {
   "cell_type": "code",
   "execution_count": 48,
   "metadata": {
    "scrolled": true
   },
   "outputs": [
    {
     "name": "stdout",
     "output_type": "stream",
     "text": [
      "Counter({'0': 500, '1': 500})\n"
     ]
    }
   ],
   "source": [
    "import cirq\n",
    "from cirq import H, measure\n",
    "\n",
    "# Create quantum and classical registers with 2 qubits\n",
    "qlist = cirq.LineQubit.range(2)\n",
    "\n",
    "# Create a new circuit\n",
    "circuit = cirq.Circuit()\n",
    "\n",
    "# Apply H gate to qubit 0\n",
    "circuit.append(H(qlist[0]))\n",
    "\n",
    "# Measure both qubits, result is the label\n",
    "circuit.append(measure(qlist[0], key='result'))\n",
    "\n",
    "# This is the local simulator \n",
    "s = cirq.Simulator()\n",
    "\n",
    "samples=s.run(circuit, repetitions=1000)\n",
    "\n",
    "def bitstring(bits):\n",
    "    return \"\".join(str(int(b)) for b in bits)\n",
    "\n",
    "counts = samples.histogram(key=\"result\",fold_func=bitstring)\n",
    "print(counts)"
   ]
  },
  {
   "cell_type": "markdown",
   "metadata": {},
   "source": [
    "<a id=\"task3\"></a>\n",
    "### Task 3\n",
    "    \n",
    "Implement the circuit in Task 1. Measure all the qubits and simulate your circuit for 1000 times."
   ]
  },
  {
   "cell_type": "code",
   "execution_count": 49,
   "metadata": {},
   "outputs": [],
   "source": [
    "import cirq\n",
    "from cirq import H, CX, measure\n",
    "\n",
    "#\n",
    "# Your solution here\n",
    "#\n"
   ]
  },
  {
   "cell_type": "markdown",
   "metadata": {},
   "source": [
    "[click for our solution](D00_Cirq_Introduction_Solutions.ipynb#task3)"
   ]
  },
  {
   "cell_type": "markdown",
   "metadata": {},
   "source": [
    "<hr>"
   ]
  },
  {
   "cell_type": "markdown",
   "metadata": {},
   "source": [
    "## Debugging the Circuits - State Representation"
   ]
  },
  {
   "cell_type": "markdown",
   "metadata": {},
   "source": [
    "It is possible to get the exact quantum state from the simulator. You shouldn't measure your circuit before getting the state. \n",
    "\n",
    "We will use the _simulate_ function in Cirq to obtain the exact quantum state."
   ]
  },
  {
   "cell_type": "code",
   "execution_count": 50,
   "metadata": {},
   "outputs": [
    {
     "name": "stdout",
     "output_type": "stream",
     "text": [
      "measurements: (no measurements)\n",
      "\n",
      "qubits: (cirq.LineQubit(0),)\n",
      "output vector: 0.707|0⟩ + 0.707|1⟩\n",
      "\n",
      "phase:\n",
      "output vector: |⟩\n"
     ]
    }
   ],
   "source": [
    "import cirq\n",
    "from cirq import H, measure\n",
    "\n",
    "# Create quantum and classical registers with 2 qubits\n",
    "qlist = cirq.LineQubit.range(2)\n",
    "\n",
    "# Create a new circuit\n",
    "circuit = cirq.Circuit()\n",
    "\n",
    "# Apply H gate to qubit 0\n",
    "circuit.append(H(qlist[0]))\n",
    "\n",
    "# Simulate the circuit\n",
    "results=s.simulate(circuit)\n",
    "print(results)"
   ]
  },
  {
   "cell_type": "markdown",
   "metadata": {},
   "source": [
    "Note that since we did not apply any gate on qlist[1], it is not visible in the output. Let's check the following circuit."
   ]
  },
  {
   "cell_type": "code",
   "execution_count": 51,
   "metadata": {},
   "outputs": [
    {
     "name": "stdout",
     "output_type": "stream",
     "text": [
      "measurements: (no measurements)\n",
      "\n",
      "qubits: (cirq.LineQubit(0),)\n",
      "output vector: 0.707|0⟩ + 0.707|1⟩\n",
      "\n",
      "qubits: (cirq.LineQubit(1),)\n",
      "output vector: |0⟩\n",
      "\n",
      "phase:\n",
      "output vector: |⟩\n"
     ]
    }
   ],
   "source": [
    "import cirq\n",
    "from cirq import H, I, measure\n",
    "\n",
    "# Create quantum and classical registers with 2 qubits\n",
    "qlist = cirq.LineQubit.range(2)\n",
    "\n",
    "# Create a new circuit\n",
    "circuit = cirq.Circuit()\n",
    "\n",
    "# Apply H gate to qubit 0\n",
    "circuit.append(H(qlist[0]))\n",
    "# Apply Identity to qubit 1\n",
    "circuit.append(I(qlist[1]))\n",
    "\n",
    "# Simulate the circuit\n",
    "results=s.simulate(circuit)\n",
    "print(results)"
   ]
  },
  {
   "cell_type": "markdown",
   "metadata": {},
   "source": [
    "If you use simulator after the measurement, you will observe that the quantum state has collapsed to one of the states."
   ]
  },
  {
   "cell_type": "code",
   "execution_count": 52,
   "metadata": {},
   "outputs": [
    {
     "name": "stdout",
     "output_type": "stream",
     "text": [
      "measurements: q(0),q(1)=00\n",
      "\n",
      "qubits: (cirq.LineQubit(0),)\n",
      "output vector: |0⟩\n",
      "\n",
      "qubits: (cirq.LineQubit(1),)\n",
      "output vector: |0⟩\n",
      "\n",
      "phase:\n",
      "output vector: |⟩\n"
     ]
    }
   ],
   "source": [
    "circuit.append(measure(*qlist))\n",
    "results=s.simulate(circuit)\n",
    "print(results)"
   ]
  },
  {
   "cell_type": "markdown",
   "metadata": {},
   "source": [
    "If we use the simulate method when there are greater than or equal to 4 qubits, then the quantum state is represented in vector form intead of Dirac notation."
   ]
  },
  {
   "cell_type": "code",
   "execution_count": 53,
   "metadata": {},
   "outputs": [
    {
     "name": "stdout",
     "output_type": "stream",
     "text": [
      "measurements: (no measurements)\n",
      "\n",
      "qubits: (cirq.LineQubit(0),)\n",
      "output vector: 0.707|0⟩ + 0.707|1⟩\n",
      "\n",
      "qubits: (cirq.LineQubit(1),)\n",
      "output vector: 0.707|0⟩ + 0.707|1⟩\n",
      "\n",
      "qubits: (cirq.LineQubit(2),)\n",
      "output vector: 0.707|0⟩ + 0.707|1⟩\n",
      "\n",
      "qubits: (cirq.LineQubit(3),)\n",
      "output vector: 0.707|0⟩ + 0.707|1⟩\n",
      "\n",
      "phase:\n",
      "output vector: |⟩\n"
     ]
    }
   ],
   "source": [
    "import cirq\n",
    "from cirq import H, measure\n",
    "\n",
    "import cirq\n",
    "from cirq import H, I, measure\n",
    "\n",
    "# Create quantum and classical registers with 4 qubits\n",
    "qlist = cirq.LineQubit.range(4)\n",
    "\n",
    "# Create a new circuit\n",
    "circuit = cirq.Circuit()\n",
    "\n",
    "# Apply H gate to all qubits\n",
    "circuit.append(H.on_each(*qlist))\n",
    "\n",
    "# Simulate the circuit\n",
    "results=s.simulate(circuit)\n",
    "print(results)"
   ]
  },
  {
   "cell_type": "markdown",
   "metadata": {},
   "source": [
    "### Task 4\n",
    "    \n",
    "Create a quantum circuit with 4 qubits. Apply Hadamard gate to each qubit and $CZ$ gate to qubits 0 and 1. Use the simulator without measuring the circuit. Check the entries with negative sign."
   ]
  },
  {
   "cell_type": "code",
   "execution_count": 54,
   "metadata": {},
   "outputs": [],
   "source": [
    "import cirq\n",
    "from cirq import H, CZ\n",
    "\n",
    "#\n",
    "# Your solution here\n",
    "#"
   ]
  },
  {
   "cell_type": "markdown",
   "metadata": {},
   "source": [
    "[click for our solution](D00_Cirq_Introduction_Solutions.ipynb#task4)"
   ]
  },
  {
   "cell_type": "markdown",
   "metadata": {},
   "source": [
    "<hr>\n",
    "<h2>Unitary Matrix Representation</h2>"
   ]
  },
  {
   "cell_type": "markdown",
   "metadata": {},
   "source": [
    "It is possible to obtain <i>unitary</i> matrix representation of gates and circuits."
   ]
  },
  {
   "cell_type": "code",
   "execution_count": 55,
   "metadata": {},
   "outputs": [
    {
     "name": "stdout",
     "output_type": "stream",
     "text": [
      "Unitary matrix representation of the CNOT gate\n",
      "[[1.+0.j 0.+0.j 0.+0.j 0.+0.j]\n",
      " [0.+0.j 1.+0.j 0.+0.j 0.+0.j]\n",
      " [0.+0.j 0.+0.j 0.+0.j 1.+0.j]\n",
      " [0.+0.j 0.+0.j 1.+0.j 0.+0.j]]\n",
      "Unitary matrix representation of the CROOTX gate we have created\n",
      "[[0.5+0.5j 0.5-0.5j]\n",
      " [0.5-0.5j 0.5+0.5j]]\n"
     ]
    }
   ],
   "source": [
    "from cirq import CX, X\n",
    "\n",
    "ROOTX = X**0.5\n",
    "\n",
    "print('Unitary matrix representation of the CNOT gate')\n",
    "print(cirq.unitary(CX))\n",
    "print('Unitary matrix representation of the CROOTX gate we have created')\n",
    "print(cirq.unitary(ROOTX))"
   ]
  },
  {
   "cell_type": "code",
   "execution_count": 56,
   "metadata": {
    "scrolled": true
   },
   "outputs": [
    {
     "name": "stdout",
     "output_type": "stream",
     "text": [
      "Unitary matrix representation of H operator on 2 qubits.\n",
      "[[ 0.5+0.j  0.5+0.j  0.5+0.j  0.5+0.j]\n",
      " [ 0.5+0.j -0.5+0.j  0.5+0.j -0.5+0.j]\n",
      " [ 0.5+0.j  0.5+0.j -0.5+0.j -0.5+0.j]\n",
      " [ 0.5+0.j -0.5+0.j -0.5+0.j  0.5+0.j]]\n"
     ]
    }
   ],
   "source": [
    "print('Unitary matrix representation of H operator on 2 qubits.')\n",
    "qlist= cirq.LineQubit.range(2)\n",
    "circuit = cirq.Circuit()\n",
    "circuit.append(cirq.H.on_each(*qlist))\n",
    "print(cirq.unitary(circuit))"
   ]
  }
 ],
 "metadata": {
  "kernelspec": {
   "display_name": "Python 3 (ipykernel)",
   "language": "python",
   "name": "python3"
  },
  "language_info": {
   "codemirror_mode": {
    "name": "ipython",
    "version": 3
   },
   "file_extension": ".py",
   "mimetype": "text/x-python",
   "name": "python",
   "nbconvert_exporter": "python",
   "pygments_lexer": "ipython3",
   "version": "3.11.4"
  }
 },
 "nbformat": 4,
 "nbformat_minor": 4
}
