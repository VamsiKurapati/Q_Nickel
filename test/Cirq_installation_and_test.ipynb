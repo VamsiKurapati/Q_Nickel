{
 "cells": [
  {
   "cell_type": "markdown",
   "metadata": {},
   "source": [
    "<table  align=\"left\" width=\"100%\"> <tr>\n",
    "        <td  style=\"background-color:#ffffff;\"><a href=\"https://qworld.net\" target=\"_blank\"><img src=\"../images/qworld.jpg\" width=\"35%\" align=\"left\"></a></td>\n",
    "        <td  align=\"right\" style=\"background-color:#ffffff;vertical-align:bottom;horizontal-align:right\">\n",
    "            prepared by Özlem Salehi (<a href=\"https://qworld.net/qturkey/\" target=\"_blank\">QTurkey</a>)\n",
    "        </td>        \n",
    "</tr></table>"
   ]
  },
  {
   "cell_type": "markdown",
   "metadata": {},
   "source": [
    "<table width=\"100%\"><tr><td style=\"color:#bbbbbb;background-color:#ffffff;font-size:11px;font-style:italic;text-align:right;\">This cell contains some macros. If there is a problem with displaying mathematical formulas, please run this cell to load these macros. </td></tr></table>\n",
    "$\\newcommand{\\Mod}[1]{\\ (\\mathrm{mod}\\ #1)}$\n",
    "$ \\newcommand{\\bra}[1]{\\langle #1|} $\n",
    "$ \\newcommand{\\ket}[1]{|#1\\rangle} $\n",
    "$ \\newcommand{\\braket}[2]{\\langle #1|#2\\rangle} $\n",
    "$ \\newcommand{\\dot}[2]{ #1 \\cdot #2} $\n",
    "$ \\newcommand{\\biginner}[2]{\\left\\langle #1,#2\\right\\rangle} $\n",
    "$ \\newcommand{\\mymatrix}[2]{\\left( \\begin{array}{#1} #2\\end{array} \\right)} $\n",
    "$ \\newcommand{\\myvector}[1]{\\mymatrix{c}{#1}} $\n",
    "$ \\newcommand{\\myrvector}[1]{\\mymatrix{r}{#1}} $\n",
    "$ \\newcommand{\\mypar}[1]{\\left( #1 \\right)} $\n",
    "$ \\newcommand{\\mybigpar}[1]{ \\Big( #1 \\Big)} $\n",
    "$ \\newcommand{\\sqrttwo}{\\frac{1}{\\sqrt{2}}} $\n",
    "$ \\newcommand{\\dsqrttwo}{\\dfrac{1}{\\sqrt{2}}} $\n",
    "$ \\newcommand{\\onehalf}{\\frac{1}{2}} $\n",
    "$ \\newcommand{\\donehalf}{\\dfrac{1}{2}} $\n",
    "$ \\newcommand{\\hadamard}{ \\mymatrix{rr}{ \\sqrttwo & \\sqrttwo \\\\ \\sqrttwo & -\\sqrttwo }} $\n",
    "$ \\newcommand{\\vzero}{\\myvector{1\\\\0}} $\n",
    "$ \\newcommand{\\vone}{\\myvector{0\\\\1}} $\n",
    "$ \\newcommand{\\stateplus}{\\myvector{ \\sqrttwo \\\\  \\sqrttwo } } $\n",
    "$ \\newcommand{\\stateminus}{ \\myrvector{ \\sqrttwo \\\\ -\\sqrttwo } } $\n",
    "$ \\newcommand{\\myarray}[2]{ \\begin{array}{#1}#2\\end{array}} $\n",
    "$ \\newcommand{\\X}{ \\mymatrix{cc}{0 & 1 \\\\ 1 & 0}  } $\n",
    "$ \\newcommand{\\Z}{ \\mymatrix{rr}{1 & 0 \\\\ 0 & -1}  } $\n",
    "$ \\newcommand{\\Htwo}{ \\mymatrix{rrrr}{ \\frac{1}{2} & \\frac{1}{2} & \\frac{1}{2} & \\frac{1}{2} \\\\ \\frac{1}{2} & -\\frac{1}{2} & \\frac{1}{2} & -\\frac{1}{2} \\\\ \\frac{1}{2} & \\frac{1}{2} & -\\frac{1}{2} & -\\frac{1}{2} \\\\ \\frac{1}{2} & -\\frac{1}{2} & -\\frac{1}{2} & \\frac{1}{2} } } $\n",
    "$ \\newcommand{\\CNOT}{ \\mymatrix{cccc}{1 & 0 & 0 & 0 \\\\ 0 & 1 & 0 & 0 \\\\ 0 & 0 & 0 & 1 \\\\ 0 & 0 & 1 & 0} } $\n",
    "$ \\newcommand{\\norm}[1]{ \\left\\lVert #1 \\right\\rVert } $\n",
    "$ \\newcommand{\\pstate}[1]{ \\lceil \\mspace{-1mu} #1 \\mspace{-1.5mu} \\rfloor } $"
   ]
  },
  {
   "cell_type": "markdown",
   "metadata": {},
   "source": [
    "# Cirq installation and test\n",
    "\n",
    "If you followed the instructions in the README.md correctly, then the cirq should already be installed. However, if you are installing cirq in an existing python environment, then refer to the following.\n",
    "\n",
    "You should run the tests below in either case.\n"
   ]
  },
  {
   "cell_type": "markdown",
   "metadata": {},
   "source": [
    "<hr id=\"install\">\n",
    "\n",
    "## Install Cirq\n"
   ]
  },
  {
   "cell_type": "markdown",
   "metadata": {},
   "source": [
    "Type\n",
    "\n",
    "    !pip install cirq\n",
    "    \n",
    "directly inside the cell of a Jupyter notebook.\n",
    "\n",
    "You may also visit the following links for further information.\n",
    "\n",
    "- https://pypi.org/project/cirq/\n",
    "\n",
    "- https://quantumai.google/cirq/install?hl=en"
   ]
  },
  {
   "cell_type": "markdown",
   "metadata": {},
   "source": [
    "__*Restart the kernel*__ (check \"Kernel\" menu) to apply the changes to the current notebook."
   ]
  },
  {
   "cell_type": "markdown",
   "metadata": {},
   "source": [
    "<hr id=\"check\">\n",
    "\n",
    "## Check Cirq installation\n",
    "\n"
   ]
  },
  {
   "cell_type": "code",
   "execution_count": 5,
   "metadata": {},
   "outputs": [
    {
     "name": "stdout",
     "output_type": "stream",
     "text": [
      "Requirement already satisfied: cirq in c:\\python311\\lib\\site-packages (1.3.0)\n",
      "Collecting cirq-aqt==1.3.0 (from cirq)\n",
      "  Using cached cirq_aqt-1.3.0-py3-none-any.whl.metadata (1.6 kB)\n",
      "Collecting cirq-core==1.3.0 (from cirq)\n",
      "  Using cached cirq_core-1.3.0-py3-none-any.whl.metadata (1.9 kB)\n",
      "Collecting cirq-ft==1.3.0 (from cirq)\n",
      "  Using cached cirq_ft-1.3.0-py3-none-any.whl.metadata (1.3 kB)\n",
      "Collecting cirq-google==1.3.0 (from cirq)\n",
      "  Using cached cirq_google-1.3.0-py3-none-any.whl.metadata (2.0 kB)\n",
      "Collecting cirq-ionq==1.3.0 (from cirq)\n",
      "  Using cached cirq_ionq-1.3.0-py3-none-any.whl.metadata (1.6 kB)\n",
      "Collecting cirq-pasqal==1.3.0 (from cirq)\n",
      "  Using cached cirq_pasqal-1.3.0-py3-none-any.whl.metadata (1.6 kB)\n",
      "Collecting cirq-rigetti==1.3.0 (from cirq)\n",
      "  Using cached cirq_rigetti-1.3.0-py3-none-any.whl.metadata (1.7 kB)\n",
      "Collecting cirq-web==1.3.0 (from cirq)\n",
      "  Using cached cirq_web-1.3.0-py3-none-any.whl.metadata (2.6 kB)\n",
      "Requirement already satisfied: requests~=2.18 in c:\\users\\vamsi\\appdata\\roaming\\python\\python311\\site-packages (from cirq-aqt==1.3.0->cirq) (2.31.0)\n",
      "Requirement already satisfied: duet~=0.2.8 in c:\\python311\\lib\\site-packages (from cirq-core==1.3.0->cirq) (0.2.9)\n",
      "Requirement already satisfied: matplotlib~=3.0 in c:\\python311\\lib\\site-packages (from cirq-core==1.3.0->cirq) (3.7.2)\n",
      "Requirement already satisfied: networkx>=2.4 in c:\\python311\\lib\\site-packages (from cirq-core==1.3.0->cirq) (3.2.1)\n",
      "Requirement already satisfied: numpy~=1.16 in c:\\python311\\lib\\site-packages (from cirq-core==1.3.0->cirq) (1.25.2)\n",
      "Requirement already satisfied: pandas in c:\\users\\vamsi\\appdata\\roaming\\python\\python311\\site-packages (from cirq-core==1.3.0->cirq) (2.1.4)\n",
      "Requirement already satisfied: sortedcontainers~=2.0 in c:\\python311\\lib\\site-packages (from cirq-core==1.3.0->cirq) (2.4.0)\n",
      "Requirement already satisfied: scipy in c:\\users\\vamsi\\appdata\\roaming\\python\\python311\\site-packages (from cirq-core==1.3.0->cirq) (1.11.4)\n",
      "Requirement already satisfied: sympy in c:\\users\\vamsi\\appdata\\roaming\\python\\python311\\site-packages (from cirq-core==1.3.0->cirq) (1.12)\n",
      "Requirement already satisfied: typing-extensions>=4.2 in c:\\python311\\lib\\site-packages (from cirq-core==1.3.0->cirq) (4.9.0)\n",
      "Requirement already satisfied: tqdm in c:\\python311\\lib\\site-packages (from cirq-core==1.3.0->cirq) (4.66.2)\n",
      "Requirement already satisfied: attrs in c:\\python311\\lib\\site-packages (from cirq-ft==1.3.0->cirq) (21.4.0)\n",
      "Requirement already satisfied: cachetools>=5.3 in c:\\python311\\lib\\site-packages (from cirq-ft==1.3.0->cirq) (5.3.2)\n",
      "Requirement already satisfied: ipywidgets in c:\\users\\vamsi\\appdata\\roaming\\python\\python311\\site-packages (from cirq-ft==1.3.0->cirq) (8.1.1)\n",
      "Requirement already satisfied: nbconvert in c:\\users\\vamsi\\appdata\\roaming\\python\\python311\\site-packages (from cirq-ft==1.3.0->cirq) (7.16.0)\n",
      "Requirement already satisfied: nbformat in c:\\users\\vamsi\\appdata\\roaming\\python\\python311\\site-packages (from cirq-ft==1.3.0->cirq) (5.9.2)\n",
      "Collecting google-api-core>=1.14.0 (from google-api-core[grpc]>=1.14.0->cirq-google==1.3.0->cirq)\n",
      "  Using cached google_api_core-2.17.1-py3-none-any.whl.metadata (2.7 kB)\n",
      "Requirement already satisfied: proto-plus>=1.20.0 in c:\\python311\\lib\\site-packages (from cirq-google==1.3.0->cirq) (1.23.0)\n",
      "Requirement already satisfied: protobuf>=3.15.0 in c:\\python311\\lib\\site-packages (from cirq-google==1.3.0->cirq) (4.25.3)\n",
      "Collecting pyquil<4.0.0,>=3.2.0 (from cirq-rigetti==1.3.0->cirq)\n",
      "  Using cached pyquil-3.5.4-py3-none-any.whl.metadata (11 kB)\n",
      "Requirement already satisfied: googleapis-common-protos<2.0.dev0,>=1.56.2 in c:\\python311\\lib\\site-packages (from google-api-core>=1.14.0->google-api-core[grpc]>=1.14.0->cirq-google==1.3.0->cirq) (1.62.0)\n",
      "Collecting google-auth<3.0.dev0,>=2.14.1 (from google-api-core>=1.14.0->google-api-core[grpc]>=1.14.0->cirq-google==1.3.0->cirq)\n",
      "  Using cached google_auth-2.28.0-py2.py3-none-any.whl.metadata (4.7 kB)\n",
      "Requirement already satisfied: grpcio<2.0dev,>=1.33.2 in c:\\python311\\lib\\site-packages (from google-api-core[grpc]>=1.14.0->cirq-google==1.3.0->cirq) (1.60.1)\n",
      "Collecting grpcio-status<2.0.dev0,>=1.33.2 (from google-api-core[grpc]>=1.14.0->cirq-google==1.3.0->cirq)\n",
      "  Using cached grpcio_status-1.60.1-py3-none-any.whl.metadata (1.3 kB)\n",
      "Requirement already satisfied: contourpy>=1.0.1 in c:\\python311\\lib\\site-packages (from matplotlib~=3.0->cirq-core==1.3.0->cirq) (1.1.0)\n",
      "Requirement already satisfied: cycler>=0.10 in c:\\python311\\lib\\site-packages (from matplotlib~=3.0->cirq-core==1.3.0->cirq) (0.11.0)\n",
      "Requirement already satisfied: fonttools>=4.22.0 in c:\\python311\\lib\\site-packages (from matplotlib~=3.0->cirq-core==1.3.0->cirq) (4.42.0)\n",
      "Requirement already satisfied: kiwisolver>=1.0.1 in c:\\python311\\lib\\site-packages (from matplotlib~=3.0->cirq-core==1.3.0->cirq) (1.4.4)\n",
      "Requirement already satisfied: packaging>=20.0 in c:\\python311\\lib\\site-packages (from matplotlib~=3.0->cirq-core==1.3.0->cirq) (23.2)\n",
      "Requirement already satisfied: pillow>=6.2.0 in c:\\python311\\lib\\site-packages (from matplotlib~=3.0->cirq-core==1.3.0->cirq) (10.0.0)\n",
      "Requirement already satisfied: pyparsing<3.1,>=2.3.1 in c:\\python311\\lib\\site-packages (from matplotlib~=3.0->cirq-core==1.3.0->cirq) (3.0.9)\n",
      "Requirement already satisfied: python-dateutil>=2.7 in c:\\python311\\lib\\site-packages (from matplotlib~=3.0->cirq-core==1.3.0->cirq) (2.8.2)\n",
      "Requirement already satisfied: deprecated<2.0.0,>=1.2.13 in c:\\python311\\lib\\site-packages (from pyquil<4.0.0,>=3.2.0->cirq-rigetti==1.3.0->cirq) (1.2.14)\n",
      "Requirement already satisfied: lark<0.12.0,>=0.11.1 in c:\\python311\\lib\\site-packages (from pyquil<4.0.0,>=3.2.0->cirq-rigetti==1.3.0->cirq) (0.11.3)\n",
      "Collecting qcs-api-client<0.22.0,>=0.21.0 (from pyquil<4.0.0,>=3.2.0->cirq-rigetti==1.3.0->cirq)\n",
      "  Using cached qcs_api_client-0.21.6-py3-none-any.whl.metadata (3.9 kB)\n",
      "Requirement already satisfied: rpcq<4.0.0,>=3.10.0 in c:\\python311\\lib\\site-packages (from pyquil<4.0.0,>=3.2.0->cirq-rigetti==1.3.0->cirq) (3.11.0)\n",
      "Requirement already satisfied: tenacity<9.0.0,>=8.2.2 in c:\\python311\\lib\\site-packages (from pyquil<4.0.0,>=3.2.0->cirq-rigetti==1.3.0->cirq) (8.2.3)\n",
      "Requirement already satisfied: types-deprecated<2.0.0.0,>=1.2.9.2 in c:\\python311\\lib\\site-packages (from pyquil<4.0.0,>=3.2.0->cirq-rigetti==1.3.0->cirq) (1.2.9.20240106)\n",
      "Requirement already satisfied: types-python-dateutil<3.0.0,>=2.8.19 in c:\\python311\\lib\\site-packages (from pyquil<4.0.0,>=3.2.0->cirq-rigetti==1.3.0->cirq) (2.8.19.20240106)\n",
      "Requirement already satisfied: types-retry<0.10.0,>=0.9.9 in c:\\python311\\lib\\site-packages (from pyquil<4.0.0,>=3.2.0->cirq-rigetti==1.3.0->cirq) (0.9.9.4)\n",
      "Requirement already satisfied: charset-normalizer<4,>=2 in c:\\users\\vamsi\\appdata\\roaming\\python\\python311\\site-packages (from requests~=2.18->cirq-aqt==1.3.0->cirq) (3.3.2)\n",
      "Requirement already satisfied: idna<4,>=2.5 in c:\\users\\vamsi\\appdata\\roaming\\python\\python311\\site-packages (from requests~=2.18->cirq-aqt==1.3.0->cirq) (3.6)\n",
      "Requirement already satisfied: urllib3<3,>=1.21.1 in c:\\python311\\lib\\site-packages (from requests~=2.18->cirq-aqt==1.3.0->cirq) (2.2.0)\n",
      "Requirement already satisfied: certifi>=2017.4.17 in c:\\users\\vamsi\\appdata\\roaming\\python\\python311\\site-packages (from requests~=2.18->cirq-aqt==1.3.0->cirq) (2024.2.2)\n",
      "Requirement already satisfied: comm>=0.1.3 in c:\\users\\vamsi\\appdata\\roaming\\python\\python311\\site-packages (from ipywidgets->cirq-ft==1.3.0->cirq) (0.2.1)\n",
      "Requirement already satisfied: ipython>=6.1.0 in c:\\users\\vamsi\\appdata\\roaming\\python\\python311\\site-packages (from ipywidgets->cirq-ft==1.3.0->cirq) (8.20.0)\n",
      "Requirement already satisfied: traitlets>=4.3.1 in c:\\users\\vamsi\\appdata\\roaming\\python\\python311\\site-packages (from ipywidgets->cirq-ft==1.3.0->cirq) (5.14.1)\n",
      "Requirement already satisfied: widgetsnbextension~=4.0.9 in c:\\users\\vamsi\\appdata\\roaming\\python\\python311\\site-packages (from ipywidgets->cirq-ft==1.3.0->cirq) (4.0.9)\n",
      "Requirement already satisfied: jupyterlab-widgets~=3.0.9 in c:\\users\\vamsi\\appdata\\roaming\\python\\python311\\site-packages (from ipywidgets->cirq-ft==1.3.0->cirq) (3.0.9)\n",
      "Requirement already satisfied: beautifulsoup4 in c:\\users\\vamsi\\appdata\\roaming\\python\\python311\\site-packages (from nbconvert->cirq-ft==1.3.0->cirq) (4.12.3)\n",
      "Requirement already satisfied: bleach!=5.0.0 in c:\\users\\vamsi\\appdata\\roaming\\python\\python311\\site-packages (from nbconvert->cirq-ft==1.3.0->cirq) (6.1.0)\n",
      "Requirement already satisfied: defusedxml in c:\\users\\vamsi\\appdata\\roaming\\python\\python311\\site-packages (from nbconvert->cirq-ft==1.3.0->cirq) (0.7.1)\n",
      "Requirement already satisfied: jinja2>=3.0 in c:\\users\\vamsi\\appdata\\roaming\\python\\python311\\site-packages (from nbconvert->cirq-ft==1.3.0->cirq) (3.1.3)\n",
      "Requirement already satisfied: jupyter-core>=4.7 in c:\\users\\vamsi\\appdata\\roaming\\python\\python311\\site-packages (from nbconvert->cirq-ft==1.3.0->cirq) (5.7.1)\n",
      "Requirement already satisfied: jupyterlab-pygments in c:\\python311\\lib\\site-packages (from nbconvert->cirq-ft==1.3.0->cirq) (0.3.0)\n",
      "Requirement already satisfied: markupsafe>=2.0 in c:\\python311\\lib\\site-packages (from nbconvert->cirq-ft==1.3.0->cirq) (2.1.5)\n",
      "Requirement already satisfied: mistune<4,>=2.0.3 in c:\\python311\\lib\\site-packages (from nbconvert->cirq-ft==1.3.0->cirq) (3.0.2)\n",
      "Requirement already satisfied: nbclient>=0.5.0 in c:\\users\\vamsi\\appdata\\roaming\\python\\python311\\site-packages (from nbconvert->cirq-ft==1.3.0->cirq) (0.9.0)\n",
      "Requirement already satisfied: pandocfilters>=1.4.1 in c:\\python311\\lib\\site-packages (from nbconvert->cirq-ft==1.3.0->cirq) (1.5.1)\n",
      "Requirement already satisfied: pygments>=2.4.1 in c:\\users\\vamsi\\appdata\\roaming\\python\\python311\\site-packages (from nbconvert->cirq-ft==1.3.0->cirq) (2.17.2)\n",
      "Requirement already satisfied: tinycss2 in c:\\python311\\lib\\site-packages (from nbconvert->cirq-ft==1.3.0->cirq) (1.2.1)\n",
      "Requirement already satisfied: fastjsonschema in c:\\python311\\lib\\site-packages (from nbformat->cirq-ft==1.3.0->cirq) (2.19.1)\n",
      "Requirement already satisfied: jsonschema>=2.6 in c:\\users\\vamsi\\appdata\\roaming\\python\\python311\\site-packages (from nbformat->cirq-ft==1.3.0->cirq) (4.21.1)\n",
      "Requirement already satisfied: pytz>=2020.1 in c:\\users\\vamsi\\appdata\\roaming\\python\\python311\\site-packages (from pandas->cirq-core==1.3.0->cirq) (2023.3.post1)\n",
      "Requirement already satisfied: tzdata>=2022.1 in c:\\users\\vamsi\\appdata\\roaming\\python\\python311\\site-packages (from pandas->cirq-core==1.3.0->cirq) (2023.4)\n",
      "Requirement already satisfied: mpmath>=0.19 in c:\\users\\vamsi\\appdata\\roaming\\python\\python311\\site-packages (from sympy->cirq-core==1.3.0->cirq) (1.3.0)\n",
      "Requirement already satisfied: colorama in c:\\users\\vamsi\\appdata\\roaming\\python\\python311\\site-packages (from tqdm->cirq-core==1.3.0->cirq) (0.4.6)\n",
      "Requirement already satisfied: six>=1.9.0 in c:\\python311\\lib\\site-packages (from bleach!=5.0.0->nbconvert->cirq-ft==1.3.0->cirq) (1.16.0)\n",
      "Requirement already satisfied: webencodings in c:\\python311\\lib\\site-packages (from bleach!=5.0.0->nbconvert->cirq-ft==1.3.0->cirq) (0.5.1)\n",
      "Requirement already satisfied: wrapt<2,>=1.10 in c:\\python311\\lib\\site-packages (from deprecated<2.0.0,>=1.2.13->pyquil<4.0.0,>=3.2.0->cirq-rigetti==1.3.0->cirq) (1.16.0)\n",
      "Requirement already satisfied: pyasn1-modules>=0.2.1 in c:\\python311\\lib\\site-packages (from google-auth<3.0.dev0,>=2.14.1->google-api-core>=1.14.0->google-api-core[grpc]>=1.14.0->cirq-google==1.3.0->cirq) (0.3.0)\n",
      "Requirement already satisfied: rsa<5,>=3.1.4 in c:\\python311\\lib\\site-packages (from google-auth<3.0.dev0,>=2.14.1->google-api-core>=1.14.0->google-api-core[grpc]>=1.14.0->cirq-google==1.3.0->cirq) (4.9)\n",
      "Requirement already satisfied: decorator in c:\\users\\vamsi\\appdata\\roaming\\python\\python311\\site-packages (from ipython>=6.1.0->ipywidgets->cirq-ft==1.3.0->cirq) (5.1.1)\n",
      "Requirement already satisfied: jedi>=0.16 in c:\\users\\vamsi\\appdata\\roaming\\python\\python311\\site-packages (from ipython>=6.1.0->ipywidgets->cirq-ft==1.3.0->cirq) (0.19.1)\n",
      "Requirement already satisfied: matplotlib-inline in c:\\users\\vamsi\\appdata\\roaming\\python\\python311\\site-packages (from ipython>=6.1.0->ipywidgets->cirq-ft==1.3.0->cirq) (0.1.6)\n",
      "Requirement already satisfied: prompt-toolkit<3.1.0,>=3.0.41 in c:\\users\\vamsi\\appdata\\roaming\\python\\python311\\site-packages (from ipython>=6.1.0->ipywidgets->cirq-ft==1.3.0->cirq) (3.0.43)\n",
      "Requirement already satisfied: stack-data in c:\\users\\vamsi\\appdata\\roaming\\python\\python311\\site-packages (from ipython>=6.1.0->ipywidgets->cirq-ft==1.3.0->cirq) (0.6.3)\n",
      "Collecting attrs (from cirq-ft==1.3.0->cirq)\n",
      "  Using cached attrs-23.2.0-py3-none-any.whl.metadata (9.5 kB)\n",
      "Requirement already satisfied: jsonschema-specifications>=2023.03.6 in c:\\python311\\lib\\site-packages (from jsonschema>=2.6->nbformat->cirq-ft==1.3.0->cirq) (2023.12.1)\n",
      "Requirement already satisfied: referencing>=0.28.4 in c:\\python311\\lib\\site-packages (from jsonschema>=2.6->nbformat->cirq-ft==1.3.0->cirq) (0.33.0)\n",
      "Requirement already satisfied: rpds-py>=0.7.1 in c:\\python311\\lib\\site-packages (from jsonschema>=2.6->nbformat->cirq-ft==1.3.0->cirq) (0.18.0)\n",
      "Requirement already satisfied: platformdirs>=2.5 in c:\\users\\vamsi\\appdata\\roaming\\python\\python311\\site-packages (from jupyter-core>=4.7->nbconvert->cirq-ft==1.3.0->cirq) (4.1.0)\n",
      "Requirement already satisfied: pywin32>=300 in c:\\users\\vamsi\\appdata\\roaming\\python\\python311\\site-packages (from jupyter-core>=4.7->nbconvert->cirq-ft==1.3.0->cirq) (306)\n",
      "Requirement already satisfied: jupyter-client>=6.1.12 in c:\\users\\vamsi\\appdata\\roaming\\python\\python311\\site-packages (from nbclient>=0.5.0->nbconvert->cirq-ft==1.3.0->cirq) (8.6.0)\n",
      "Requirement already satisfied: PyJWT<3.0.0,>=2.4.0 in c:\\python311\\lib\\site-packages (from qcs-api-client<0.22.0,>=0.21.0->pyquil<4.0.0,>=3.2.0->cirq-rigetti==1.3.0->cirq) (2.8.0)\n",
      "INFO: pip is looking at multiple versions of qcs-api-client to determine which version is compatible with other requirements. This could take a while.\n",
      "Collecting qcs-api-client<0.22.0,>=0.21.0 (from pyquil<4.0.0,>=3.2.0->cirq-rigetti==1.3.0->cirq)\n",
      "  Using cached qcs_api_client-0.21.5-py3-none-any.whl.metadata (3.9 kB)\n",
      "  Using cached qcs_api_client-0.21.4-py3-none-any.whl.metadata (3.9 kB)\n",
      "  Using cached qcs_api_client-0.21.3-py3-none-any.whl.metadata (3.9 kB)\n",
      "  Using cached qcs_api_client-0.21.2-py3-none-any.whl (147 kB)\n",
      "  Using cached qcs_api_client-0.21.1-py3-none-any.whl (147 kB)\n",
      "  Using cached qcs_api_client-0.21.0-py3-none-any.whl (142 kB)\n",
      "Collecting jsonschema>=2.6 (from nbformat->cirq-ft==1.3.0->cirq)\n",
      "  Using cached jsonschema-4.21.1-py3-none-any.whl.metadata (7.8 kB)\n",
      "INFO: pip is still looking at multiple versions of qcs-api-client to determine which version is compatible with other requirements. This could take a while.\n",
      "INFO: This is taking longer than usual. You might need to provide the dependency resolver with stricter constraints to reduce runtime. See https://pip.pypa.io/warnings/backtracking for guidance. If you want to abort this run, press Ctrl + C.\n",
      "  Using cached jsonschema-4.21.0-py3-none-any.whl.metadata (8.0 kB)\n",
      "  Using cached jsonschema-4.20.0-py3-none-any.whl.metadata (8.1 kB)\n",
      "  Using cached jsonschema-4.19.2-py3-none-any.whl.metadata (7.9 kB)\n",
      "  Using cached jsonschema-4.19.1-py3-none-any.whl.metadata (7.9 kB)\n",
      "  Using cached jsonschema-4.19.0-py3-none-any.whl.metadata (8.2 kB)\n",
      "  Using cached jsonschema-4.18.6-py3-none-any.whl.metadata (7.8 kB)\n",
      "  Using cached jsonschema-4.18.5-py3-none-any.whl.metadata (7.7 kB)\n",
      "  Using cached jsonschema-4.18.4-py3-none-any.whl.metadata (7.8 kB)\n",
      "  Using cached jsonschema-4.18.3-py3-none-any.whl.metadata (7.9 kB)\n",
      "  Using cached jsonschema-4.18.2-py3-none-any.whl.metadata (7.8 kB)\n",
      "  Using cached jsonschema-4.18.1-py3-none-any.whl.metadata (7.8 kB)\n",
      "  Using cached jsonschema-4.18.0-py3-none-any.whl.metadata (10 kB)\n",
      "  Using cached jsonschema-4.17.3-py3-none-any.whl (90 kB)\n",
      "Requirement already satisfied: pyrsistent!=0.17.0,!=0.17.1,!=0.17.2,>=0.14.0 in c:\\python311\\lib\\site-packages (from jsonschema>=2.6->nbformat->cirq-ft==1.3.0->cirq) (0.20.0)\n",
      "Collecting httpx<0.24.0,>=0.23.0 (from qcs-api-client<0.22.0,>=0.21.0->pyquil<4.0.0,>=3.2.0->cirq-rigetti==1.3.0->cirq)\n",
      "  Using cached httpx-0.23.3-py3-none-any.whl (71 kB)\n",
      "Requirement already satisfied: iso8601<2.0.0,>=1.0.2 in c:\\python311\\lib\\site-packages (from qcs-api-client<0.22.0,>=0.21.0->pyquil<4.0.0,>=3.2.0->cirq-rigetti==1.3.0->cirq) (1.1.0)\n",
      "Requirement already satisfied: pydantic<2.0.0,>=1.7.2 in c:\\python311\\lib\\site-packages (from qcs-api-client<0.22.0,>=0.21.0->pyquil<4.0.0,>=3.2.0->cirq-rigetti==1.3.0->cirq) (1.10.14)\n",
      "Requirement already satisfied: retrying<2.0.0,>=1.3.3 in c:\\python311\\lib\\site-packages (from qcs-api-client<0.22.0,>=0.21.0->pyquil<4.0.0,>=3.2.0->cirq-rigetti==1.3.0->cirq) (1.3.4)\n",
      "Requirement already satisfied: rfc3339<7.0,>=6.2 in c:\\python311\\lib\\site-packages (from qcs-api-client<0.22.0,>=0.21.0->pyquil<4.0.0,>=3.2.0->cirq-rigetti==1.3.0->cirq) (6.2)\n",
      "Requirement already satisfied: toml<0.11.0,>=0.10.2 in c:\\python311\\lib\\site-packages (from qcs-api-client<0.22.0,>=0.21.0->pyquil<4.0.0,>=3.2.0->cirq-rigetti==1.3.0->cirq) (0.10.2)\n",
      "Requirement already satisfied: msgpack<2.0,>=0.6 in c:\\python311\\lib\\site-packages (from rpcq<4.0.0,>=3.10.0->pyquil<4.0.0,>=3.2.0->cirq-rigetti==1.3.0->cirq) (1.0.7)\n",
      "Requirement already satisfied: python-rapidjson in c:\\python311\\lib\\site-packages (from rpcq<4.0.0,>=3.10.0->pyquil<4.0.0,>=3.2.0->cirq-rigetti==1.3.0->cirq) (1.14)\n",
      "Requirement already satisfied: pyzmq>=17 in c:\\users\\vamsi\\appdata\\roaming\\python\\python311\\site-packages (from rpcq<4.0.0,>=3.10.0->pyquil<4.0.0,>=3.2.0->cirq-rigetti==1.3.0->cirq) (25.1.2)\n",
      "Requirement already satisfied: ruamel.yaml in c:\\python311\\lib\\site-packages (from rpcq<4.0.0,>=3.10.0->pyquil<4.0.0,>=3.2.0->cirq-rigetti==1.3.0->cirq) (0.18.6)\n",
      "Requirement already satisfied: soupsieve>1.2 in c:\\python311\\lib\\site-packages (from beautifulsoup4->nbconvert->cirq-ft==1.3.0->cirq) (2.5)\n",
      "Collecting httpcore<0.17.0,>=0.15.0 (from httpx<0.24.0,>=0.23.0->qcs-api-client<0.22.0,>=0.21.0->pyquil<4.0.0,>=3.2.0->cirq-rigetti==1.3.0->cirq)\n",
      "  Using cached httpcore-0.16.3-py3-none-any.whl (69 kB)\n",
      "Requirement already satisfied: rfc3986<2,>=1.3 in c:\\python311\\lib\\site-packages (from rfc3986[idna2008]<2,>=1.3->httpx<0.24.0,>=0.23.0->qcs-api-client<0.22.0,>=0.21.0->pyquil<4.0.0,>=3.2.0->cirq-rigetti==1.3.0->cirq) (1.5.0)\n",
      "Requirement already satisfied: sniffio in c:\\python311\\lib\\site-packages (from httpx<0.24.0,>=0.23.0->qcs-api-client<0.22.0,>=0.21.0->pyquil<4.0.0,>=3.2.0->cirq-rigetti==1.3.0->cirq) (1.3.0)\n",
      "Requirement already satisfied: parso<0.9.0,>=0.8.3 in c:\\users\\vamsi\\appdata\\roaming\\python\\python311\\site-packages (from jedi>=0.16->ipython>=6.1.0->ipywidgets->cirq-ft==1.3.0->cirq) (0.8.3)\n",
      "Requirement already satisfied: tornado>=6.2 in c:\\users\\vamsi\\appdata\\roaming\\python\\python311\\site-packages (from jupyter-client>=6.1.12->nbclient>=0.5.0->nbconvert->cirq-ft==1.3.0->cirq) (6.4)\n",
      "Requirement already satisfied: wcwidth in c:\\users\\vamsi\\appdata\\roaming\\python\\python311\\site-packages (from prompt-toolkit<3.1.0,>=3.0.41->ipython>=6.1.0->ipywidgets->cirq-ft==1.3.0->cirq) (0.2.13)\n",
      "Requirement already satisfied: pyasn1<0.6.0,>=0.4.6 in c:\\python311\\lib\\site-packages (from pyasn1-modules>=0.2.1->google-auth<3.0.dev0,>=2.14.1->google-api-core>=1.14.0->google-api-core[grpc]>=1.14.0->cirq-google==1.3.0->cirq) (0.5.1)\n",
      "Requirement already satisfied: ruamel.yaml.clib>=0.2.7 in c:\\python311\\lib\\site-packages (from ruamel.yaml->rpcq<4.0.0,>=3.10.0->pyquil<4.0.0,>=3.2.0->cirq-rigetti==1.3.0->cirq) (0.2.8)\n",
      "Requirement already satisfied: executing>=1.2.0 in c:\\users\\vamsi\\appdata\\roaming\\python\\python311\\site-packages (from stack-data->ipython>=6.1.0->ipywidgets->cirq-ft==1.3.0->cirq) (2.0.1)\n",
      "Requirement already satisfied: asttokens>=2.1.0 in c:\\users\\vamsi\\appdata\\roaming\\python\\python311\\site-packages (from stack-data->ipython>=6.1.0->ipywidgets->cirq-ft==1.3.0->cirq) (2.4.1)\n",
      "Requirement already satisfied: pure-eval in c:\\users\\vamsi\\appdata\\roaming\\python\\python311\\site-packages (from stack-data->ipython>=6.1.0->ipywidgets->cirq-ft==1.3.0->cirq) (0.2.2)\n",
      "Requirement already satisfied: h11<0.15,>=0.13 in c:\\users\\vamsi\\appdata\\roaming\\python\\python311\\site-packages (from httpcore<0.17.0,>=0.15.0->httpx<0.24.0,>=0.23.0->qcs-api-client<0.22.0,>=0.21.0->pyquil<4.0.0,>=3.2.0->cirq-rigetti==1.3.0->cirq) (0.14.0)\n",
      "Requirement already satisfied: anyio<5.0,>=3.0 in c:\\users\\vamsi\\appdata\\roaming\\python\\python311\\site-packages (from httpcore<0.17.0,>=0.15.0->httpx<0.24.0,>=0.23.0->qcs-api-client<0.22.0,>=0.21.0->pyquil<4.0.0,>=3.2.0->cirq-rigetti==1.3.0->cirq) (4.2.0)\n",
      "Using cached cirq_aqt-1.3.0-py3-none-any.whl (27 kB)\n",
      "Using cached cirq_core-1.3.0-py3-none-any.whl (1.8 MB)\n",
      "Using cached cirq_ft-1.3.0-py3-none-any.whl (143 kB)\n",
      "Using cached cirq_google-1.3.0-py3-none-any.whl (598 kB)\n",
      "Using cached cirq_ionq-1.3.0-py3-none-any.whl (60 kB)\n",
      "Using cached cirq_pasqal-1.3.0-py3-none-any.whl (31 kB)\n",
      "Using cached cirq_rigetti-1.3.0-py3-none-any.whl (66 kB)\n",
      "Using cached cirq_web-1.3.0-py3-none-any.whl (596 kB)\n",
      "Using cached google_api_core-2.17.1-py3-none-any.whl (137 kB)\n",
      "Using cached pyquil-3.5.4-py3-none-any.whl (223 kB)\n",
      "Using cached google_auth-2.28.0-py2.py3-none-any.whl (186 kB)\n",
      "Using cached grpcio_status-1.60.1-py3-none-any.whl (14 kB)\n",
      "Using cached qcs_api_client-0.21.6-py3-none-any.whl (151 kB)\n",
      "Installing collected packages: jsonschema, httpcore, grpcio-status, google-auth, httpx, google-api-core, cirq-core, qcs-api-client, cirq-web, cirq-pasqal, cirq-ionq, cirq-aqt, pyquil, cirq-google, cirq-ft, cirq-rigetti\n",
      "  Attempting uninstall: jsonschema\n",
      "    Found existing installation: jsonschema 4.21.1\n",
      "    Uninstalling jsonschema-4.21.1:\n",
      "      Successfully uninstalled jsonschema-4.21.1\n",
      "  Rolling back uninstall of jsonschema\n",
      "  Moving to c:\\users\\vamsi\\appdata\\roaming\\python\\python311\\scripts\\jsonschema.exe\n",
      "   from C:\\Users\\vamsi\\AppData\\Local\\Temp\\pip-uninstall-r0kip9v3\\jsonschema.exe\n",
      "  Moving to c:\\users\\vamsi\\appdata\\roaming\\python\\python311\\site-packages\\jsonschema-4.21.1.dist-info\\\n",
      "   from C:\\Users\\vamsi\\AppData\\Roaming\\Python\\Python311\\site-packages\\~sonschema-4.21.1.dist-info\n",
      "  Moving to c:\\users\\vamsi\\appdata\\roaming\\python\\python311\\site-packages\\jsonschema\\\n",
      "   from C:\\Users\\vamsi\\AppData\\Roaming\\Python\\Python311\\site-packages\\~sonschema\n"
     ]
    },
    {
     "name": "stderr",
     "output_type": "stream",
     "text": [
      "  WARNING: Failed to write executable - trying to use .deleteme logic\n",
      "ERROR: Could not install packages due to an OSError: [WinError 2] The system cannot find the file specified: 'C:\\\\Python311\\\\Scripts\\\\jsonschema.exe' -> 'C:\\\\Python311\\\\Scripts\\\\jsonschema.exe.deleteme'\n",
      "\n"
     ]
    }
   ],
   "source": [
    "!pip install cirq"
   ]
  },
  {
   "cell_type": "code",
   "execution_count": 6,
   "metadata": {},
   "outputs": [
    {
     "ename": "ModuleNotFoundError",
     "evalue": "No module named 'cirq'",
     "output_type": "error",
     "traceback": [
      "\u001b[1;31m---------------------------------------------------------------------------\u001b[0m",
      "\u001b[1;31mModuleNotFoundError\u001b[0m                       Traceback (most recent call last)",
      "Cell \u001b[1;32mIn[6], line 1\u001b[0m\n\u001b[1;32m----> 1\u001b[0m \u001b[38;5;28;01mimport\u001b[39;00m \u001b[38;5;21;01mcirq\u001b[39;00m\n\u001b[0;32m      3\u001b[0m \u001b[38;5;28mprint\u001b[39m(cirq\u001b[38;5;241m.\u001b[39mgoogle\u001b[38;5;241m.\u001b[39mFoxtail)\n\u001b[0;32m      4\u001b[0m \u001b[38;5;66;03m# should print:\u001b[39;00m\n\u001b[0;32m      5\u001b[0m \u001b[38;5;66;03m# (0, 0)───(0, 1)───(0, 2)───(0, 3)───(0, 4)───(0, 5)───(0, 6)───(0, 7)───(0, 8)───(0, 9)───(0, 10)\u001b[39;00m\n\u001b[0;32m      6\u001b[0m \u001b[38;5;66;03m# │        │        │        │        │        │        │        │        │        │        │\u001b[39;00m\n\u001b[0;32m      7\u001b[0m \u001b[38;5;66;03m# │        │        │        │        │        │        │        │        │        │        │\u001b[39;00m\n\u001b[0;32m      8\u001b[0m \u001b[38;5;66;03m# (1, 0)───(1, 1)───(1, 2)───(1, 3)───(1, 4)───(1, 5)───(1, 6)───(1, 7)───(1, 8)───(1, 9)───(1, 10)\u001b[39;00m\n",
      "\u001b[1;31mModuleNotFoundError\u001b[0m: No module named 'cirq'"
     ]
    }
   ],
   "source": [
    "import cirq\n",
    "\n",
    "print(cirq.google.Foxtail)\n",
    "# should print:\n",
    "# (0, 0)───(0, 1)───(0, 2)───(0, 3)───(0, 4)───(0, 5)───(0, 6)───(0, 7)───(0, 8)───(0, 9)───(0, 10)\n",
    "# │        │        │        │        │        │        │        │        │        │        │\n",
    "# │        │        │        │        │        │        │        │        │        │        │\n",
    "# (1, 0)───(1, 1)───(1, 2)───(1, 3)───(1, 4)───(1, 5)───(1, 6)───(1, 7)───(1, 8)───(1, 9)───(1, 10)"
   ]
  },
  {
   "cell_type": "markdown",
   "metadata": {},
   "source": [
    "<hr id=\"example\">\n",
    "\n",
    "## Execute An Example Program\n"
   ]
  },
  {
   "cell_type": "markdown",
   "metadata": {},
   "source": [
    "1) Create a quantum circuit"
   ]
  },
  {
   "cell_type": "code",
   "execution_count": null,
   "metadata": {},
   "outputs": [],
   "source": [
    "import cirq\n",
    "\n",
    "# Pick a qubit.\n",
    "qubit = cirq.GridQubit(0, 0)\n",
    "\n",
    "# Create a circuit\n",
    "circuit = cirq.Circuit(\n",
    "    cirq.X(qubit)**0.5,  # Square root of NOT.\n",
    "    cirq.measure(qubit, key='m')  # Measurement.\n",
    ")"
   ]
  },
  {
   "cell_type": "markdown",
   "metadata": {},
   "source": [
    "2) Draw the circuit\n",
    "\n",
    "_Run the cell once more if the figure is not shown_"
   ]
  },
  {
   "cell_type": "code",
   "execution_count": null,
   "metadata": {
    "scrolled": true
   },
   "outputs": [],
   "source": [
    "print(\"Circuit:\")\n",
    "print(circuit)"
   ]
  },
  {
   "cell_type": "markdown",
   "metadata": {},
   "source": [
    "3) Execute the circuit 20 times in the local simulator and print the observed the outcomes"
   ]
  },
  {
   "cell_type": "code",
   "execution_count": null,
   "metadata": {
    "scrolled": true
   },
   "outputs": [],
   "source": [
    "# Simulate the circuit several times.\n",
    "simulator = cirq.Simulator()\n",
    "result = simulator.run(circuit, repetitions=20)\n",
    "print(\"Results:\")\n",
    "print(result)"
   ]
  },
  {
   "cell_type": "markdown",
   "metadata": {},
   "source": [
    "4) Print a histogram of results"
   ]
  },
  {
   "cell_type": "code",
   "execution_count": null,
   "metadata": {},
   "outputs": [],
   "source": [
    "# Print a histogram of results\n",
    "results = result.histogram(key='m')\n",
    "print(results)"
   ]
  },
  {
   "cell_type": "markdown",
   "metadata": {},
   "source": [
    "Reference: https://pypi.org/project/cirq/"
   ]
  }
 ],
 "metadata": {
  "kernelspec": {
   "display_name": "Python 3 (ipykernel)",
   "language": "python",
   "name": "python3"
  },
  "language_info": {
   "codemirror_mode": {
    "name": "ipython",
    "version": 3
   },
   "file_extension": ".py",
   "mimetype": "text/x-python",
   "name": "python",
   "nbconvert_exporter": "python",
   "pygments_lexer": "ipython3",
   "version": "3.11.4"
  }
 },
 "nbformat": 4,
 "nbformat_minor": 4
}
